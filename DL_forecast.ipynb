{
  "nbformat": 4,
  "nbformat_minor": 0,
  "metadata": {
    "colab": {
      "name": "DL_forecast.ipynb",
      "provenance": [],
      "collapsed_sections": []
    },
    "kernelspec": {
      "name": "python3",
      "display_name": "Python 3"
    },
    "language_info": {
      "name": "python"
    },
    "accelerator": "GPU"
  },
  "cells": [
    {
      "cell_type": "markdown",
      "metadata": {
        "id": "VFXecJ7F5Di6"
      },
      "source": [
        "# Import and install libraries"
      ]
    },
    {
      "cell_type": "code",
      "metadata": {
        "id": "Iv1dxq0FtmAQ"
      },
      "source": [
        "!pip install yfinance --quiet"
      ],
      "execution_count": null,
      "outputs": []
    },
    {
      "cell_type": "code",
      "metadata": {
        "id": "tBKRzlw2snPB"
      },
      "source": [
        "import numpy as np\n",
        "import pandas as pd\n",
        "import yfinance as yf\n",
        "from sklearn.preprocessing import MinMaxScaler"
      ],
      "execution_count": null,
      "outputs": []
    },
    {
      "cell_type": "markdown",
      "metadata": {
        "id": "YGCEkgS-5Gwz"
      },
      "source": [
        "# Prepare Time Series"
      ]
    },
    {
      "cell_type": "code",
      "metadata": {
        "colab": {
          "base_uri": "https://localhost:8080/",
          "height": 424
        },
        "id": "JDBv2n95tnxn",
        "outputId": "6940dbed-cdcd-4cfe-cbc3-a5164b2d265d"
      },
      "source": [
        "data = yf.Ticker('TSLA')\n",
        "data = data.history(start=\"2020-12-31\", interval='1d', rounding=True)\n",
        "data = data[['Close']].reset_index()\n",
        "\n",
        "r = pd.date_range(start=data.Date.min(), end=pd.to_datetime(data.Date.max(), format='%Y-%m-%d'))\n",
        "data=data.groupby('Date').mean().reindex(r)\n",
        "data.fillna(method='ffill',inplace=True)\n",
        "data = data.reset_index().rename({'index':'Date'},axis=1)\n",
        "data = data.loc[data.Date >= '2021-01-01']\n",
        "data"
      ],
      "execution_count": null,
      "outputs": [
        {
          "output_type": "execute_result",
          "data": {
            "text/html": [
              "<div>\n",
              "<style scoped>\n",
              "    .dataframe tbody tr th:only-of-type {\n",
              "        vertical-align: middle;\n",
              "    }\n",
              "\n",
              "    .dataframe tbody tr th {\n",
              "        vertical-align: top;\n",
              "    }\n",
              "\n",
              "    .dataframe thead th {\n",
              "        text-align: right;\n",
              "    }\n",
              "</style>\n",
              "<table border=\"1\" class=\"dataframe\">\n",
              "  <thead>\n",
              "    <tr style=\"text-align: right;\">\n",
              "      <th></th>\n",
              "      <th>Date</th>\n",
              "      <th>Close</th>\n",
              "    </tr>\n",
              "  </thead>\n",
              "  <tbody>\n",
              "    <tr>\n",
              "      <th>1</th>\n",
              "      <td>2021-01-01</td>\n",
              "      <td>705.67</td>\n",
              "    </tr>\n",
              "    <tr>\n",
              "      <th>2</th>\n",
              "      <td>2021-01-02</td>\n",
              "      <td>705.67</td>\n",
              "    </tr>\n",
              "    <tr>\n",
              "      <th>3</th>\n",
              "      <td>2021-01-03</td>\n",
              "      <td>705.67</td>\n",
              "    </tr>\n",
              "    <tr>\n",
              "      <th>4</th>\n",
              "      <td>2021-01-04</td>\n",
              "      <td>729.77</td>\n",
              "    </tr>\n",
              "    <tr>\n",
              "      <th>5</th>\n",
              "      <td>2021-01-05</td>\n",
              "      <td>735.11</td>\n",
              "    </tr>\n",
              "    <tr>\n",
              "      <th>...</th>\n",
              "      <td>...</td>\n",
              "      <td>...</td>\n",
              "    </tr>\n",
              "    <tr>\n",
              "      <th>260</th>\n",
              "      <td>2021-09-17</td>\n",
              "      <td>759.49</td>\n",
              "    </tr>\n",
              "    <tr>\n",
              "      <th>261</th>\n",
              "      <td>2021-09-18</td>\n",
              "      <td>759.49</td>\n",
              "    </tr>\n",
              "    <tr>\n",
              "      <th>262</th>\n",
              "      <td>2021-09-19</td>\n",
              "      <td>759.49</td>\n",
              "    </tr>\n",
              "    <tr>\n",
              "      <th>263</th>\n",
              "      <td>2021-09-20</td>\n",
              "      <td>730.17</td>\n",
              "    </tr>\n",
              "    <tr>\n",
              "      <th>264</th>\n",
              "      <td>2021-09-21</td>\n",
              "      <td>739.38</td>\n",
              "    </tr>\n",
              "  </tbody>\n",
              "</table>\n",
              "<p>264 rows × 2 columns</p>\n",
              "</div>"
            ],
            "text/plain": [
              "          Date   Close\n",
              "1   2021-01-01  705.67\n",
              "2   2021-01-02  705.67\n",
              "3   2021-01-03  705.67\n",
              "4   2021-01-04  729.77\n",
              "5   2021-01-05  735.11\n",
              "..         ...     ...\n",
              "260 2021-09-17  759.49\n",
              "261 2021-09-18  759.49\n",
              "262 2021-09-19  759.49\n",
              "263 2021-09-20  730.17\n",
              "264 2021-09-21  739.38\n",
              "\n",
              "[264 rows x 2 columns]"
            ]
          },
          "metadata": {},
          "execution_count": 74
        }
      ]
    },
    {
      "cell_type": "code",
      "metadata": {
        "id": "9Gc-70NTRb1b"
      },
      "source": [
        "def scale_tesla(data):\n",
        "  return (data - 550)/(900-550)\n",
        "def scale_tesla_inv(data):\n",
        "  return data*(900-550) + 550"
      ],
      "execution_count": null,
      "outputs": []
    },
    {
      "cell_type": "code",
      "metadata": {
        "id": "EIMNb3N1Q9k7"
      },
      "source": [
        "data['Close'] = data.Close.apply(scale_tesla)"
      ],
      "execution_count": null,
      "outputs": []
    },
    {
      "cell_type": "code",
      "metadata": {
        "colab": {
          "base_uri": "https://localhost:8080/",
          "height": 206
        },
        "id": "AI9qXcyeD-ic",
        "outputId": "e99159ca-a83e-45af-e21f-73f72be622be"
      },
      "source": [
        "#scaler  = MinMaxScaler()\n",
        "#scaler.fit(data.Close.to_numpy()[:,np.newaxis])\n",
        "#data['Close'] = scaler.transform(data.Close.to_numpy()[:,np.newaxis])\n",
        "data.head()"
      ],
      "execution_count": null,
      "outputs": [
        {
          "output_type": "execute_result",
          "data": {
            "text/html": [
              "<div>\n",
              "<style scoped>\n",
              "    .dataframe tbody tr th:only-of-type {\n",
              "        vertical-align: middle;\n",
              "    }\n",
              "\n",
              "    .dataframe tbody tr th {\n",
              "        vertical-align: top;\n",
              "    }\n",
              "\n",
              "    .dataframe thead th {\n",
              "        text-align: right;\n",
              "    }\n",
              "</style>\n",
              "<table border=\"1\" class=\"dataframe\">\n",
              "  <thead>\n",
              "    <tr style=\"text-align: right;\">\n",
              "      <th></th>\n",
              "      <th>Date</th>\n",
              "      <th>Close</th>\n",
              "    </tr>\n",
              "  </thead>\n",
              "  <tbody>\n",
              "    <tr>\n",
              "      <th>1</th>\n",
              "      <td>2021-01-01</td>\n",
              "      <td>0.444771</td>\n",
              "    </tr>\n",
              "    <tr>\n",
              "      <th>2</th>\n",
              "      <td>2021-01-02</td>\n",
              "      <td>0.444771</td>\n",
              "    </tr>\n",
              "    <tr>\n",
              "      <th>3</th>\n",
              "      <td>2021-01-03</td>\n",
              "      <td>0.444771</td>\n",
              "    </tr>\n",
              "    <tr>\n",
              "      <th>4</th>\n",
              "      <td>2021-01-04</td>\n",
              "      <td>0.513629</td>\n",
              "    </tr>\n",
              "    <tr>\n",
              "      <th>5</th>\n",
              "      <td>2021-01-05</td>\n",
              "      <td>0.528886</td>\n",
              "    </tr>\n",
              "  </tbody>\n",
              "</table>\n",
              "</div>"
            ],
            "text/plain": [
              "        Date     Close\n",
              "1 2021-01-01  0.444771\n",
              "2 2021-01-02  0.444771\n",
              "3 2021-01-03  0.444771\n",
              "4 2021-01-04  0.513629\n",
              "5 2021-01-05  0.528886"
            ]
          },
          "metadata": {},
          "execution_count": 77
        }
      ]
    },
    {
      "cell_type": "code",
      "metadata": {
        "id": "BmIqbFBGveeX"
      },
      "source": [
        "elon = pd.read_csv('/content/drive/MyDrive/Assignments/Stock price/Models_TS/elon_sent_2021.csv',index_col=0)\n",
        "reddit = pd.read_csv('/content/drive/MyDrive/Assignments/Stock price/Models_TS/reddit_sent_2021.csv',index_col=0)\n",
        "reddit.fillna(0,inplace=True)\n",
        "news = pd.read_csv('/content/drive/MyDrive/Assignments/Stock price/Models_TS/news_sent_2021.csv',index_col=0)\n",
        "news['date'] = pd.to_datetime(news.date,format='%d/%m/%Y')"
      ],
      "execution_count": null,
      "outputs": []
    },
    {
      "cell_type": "code",
      "metadata": {
        "colab": {
          "base_uri": "https://localhost:8080/"
        },
        "id": "Sg_zv2Gi5sF4",
        "outputId": "68ba9d29-4c68-4b20-9abb-9675f984f982"
      },
      "source": [
        "print(data.shape,data.Date.min(),data.Date.max())\n",
        "print(elon.shape,elon.date.min(),elon.date.max())\n",
        "print(reddit.shape,reddit.date.min(),reddit.date.max())\n",
        "print(news.shape,news.date.min(),news.date.max())"
      ],
      "execution_count": null,
      "outputs": [
        {
          "output_type": "stream",
          "name": "stdout",
          "text": [
            "(264, 2) 2021-01-01 00:00:00 2021-09-21 00:00:00\n",
            "(262, 2) 2021-01-01 2021-09-19\n",
            "(259, 2) 2021-01-01 2021-09-16\n",
            "(262, 2) 2021-01-01 00:00:00 2021-09-19 00:00:00\n"
          ]
        }
      ]
    },
    {
      "cell_type": "code",
      "metadata": {
        "id": "PGuEByak6yQG"
      },
      "source": [
        "data = data[:259]\n",
        "elon = elon[:259]\n",
        "reddit = reddit[:259]\n",
        "news =  news[:259]"
      ],
      "execution_count": null,
      "outputs": []
    },
    {
      "cell_type": "code",
      "metadata": {
        "colab": {
          "base_uri": "https://localhost:8080/"
        },
        "id": "UDRQv65v7D09",
        "outputId": "0804d492-fd61-49b2-e788-011f4fdd70af"
      },
      "source": [
        "print(data.shape,data.Date.min(),data.Date.max())\n",
        "print(elon.shape,elon.date.min(),elon.date.max())\n",
        "print(reddit.shape,reddit.date.min(),reddit.date.max())\n",
        "print(news.shape,news.date.min(),news.date.max())"
      ],
      "execution_count": null,
      "outputs": [
        {
          "output_type": "stream",
          "name": "stdout",
          "text": [
            "(259, 2) 2021-01-01 00:00:00 2021-09-16 00:00:00\n",
            "(259, 2) 2021-01-01 2021-09-16\n",
            "(259, 2) 2021-01-01 2021-09-16\n",
            "(259, 2) 2021-01-01 00:00:00 2021-09-16 00:00:00\n"
          ]
        }
      ]
    },
    {
      "cell_type": "code",
      "metadata": {
        "colab": {
          "base_uri": "https://localhost:8080/",
          "height": 424
        },
        "id": "5WP9Tf-Q70F8",
        "outputId": "497b6cfc-0fd3-4560-cb8a-103a09a30655"
      },
      "source": [
        "data = pd.DataFrame({'stock':data.Close.values,'elon':elon.sentiment.values,'reddit':reddit.sentiment.values,'news':news.sentiment.values})\n",
        "data"
      ],
      "execution_count": null,
      "outputs": [
        {
          "output_type": "execute_result",
          "data": {
            "text/html": [
              "<div>\n",
              "<style scoped>\n",
              "    .dataframe tbody tr th:only-of-type {\n",
              "        vertical-align: middle;\n",
              "    }\n",
              "\n",
              "    .dataframe tbody tr th {\n",
              "        vertical-align: top;\n",
              "    }\n",
              "\n",
              "    .dataframe thead th {\n",
              "        text-align: right;\n",
              "    }\n",
              "</style>\n",
              "<table border=\"1\" class=\"dataframe\">\n",
              "  <thead>\n",
              "    <tr style=\"text-align: right;\">\n",
              "      <th></th>\n",
              "      <th>stock</th>\n",
              "      <th>elon</th>\n",
              "      <th>reddit</th>\n",
              "      <th>news</th>\n",
              "    </tr>\n",
              "  </thead>\n",
              "  <tbody>\n",
              "    <tr>\n",
              "      <th>0</th>\n",
              "      <td>0.444771</td>\n",
              "      <td>0.506010</td>\n",
              "      <td>0.000000</td>\n",
              "      <td>0.366396</td>\n",
              "    </tr>\n",
              "    <tr>\n",
              "      <th>1</th>\n",
              "      <td>0.444771</td>\n",
              "      <td>0.397090</td>\n",
              "      <td>0.000000</td>\n",
              "      <td>0.149246</td>\n",
              "    </tr>\n",
              "    <tr>\n",
              "      <th>2</th>\n",
              "      <td>0.444771</td>\n",
              "      <td>0.375703</td>\n",
              "      <td>0.000000</td>\n",
              "      <td>0.248707</td>\n",
              "    </tr>\n",
              "    <tr>\n",
              "      <th>3</th>\n",
              "      <td>0.513629</td>\n",
              "      <td>-0.036051</td>\n",
              "      <td>0.000000</td>\n",
              "      <td>-0.233317</td>\n",
              "    </tr>\n",
              "    <tr>\n",
              "      <th>4</th>\n",
              "      <td>0.528886</td>\n",
              "      <td>0.067608</td>\n",
              "      <td>0.000000</td>\n",
              "      <td>0.020349</td>\n",
              "    </tr>\n",
              "    <tr>\n",
              "      <th>...</th>\n",
              "      <td>...</td>\n",
              "      <td>...</td>\n",
              "      <td>...</td>\n",
              "      <td>...</td>\n",
              "    </tr>\n",
              "    <tr>\n",
              "      <th>254</th>\n",
              "      <td>0.532200</td>\n",
              "      <td>0.069704</td>\n",
              "      <td>-0.026345</td>\n",
              "      <td>0.237941</td>\n",
              "    </tr>\n",
              "    <tr>\n",
              "      <th>255</th>\n",
              "      <td>0.551429</td>\n",
              "      <td>-0.072337</td>\n",
              "      <td>0.011645</td>\n",
              "      <td>0.765736</td>\n",
              "    </tr>\n",
              "    <tr>\n",
              "      <th>256</th>\n",
              "      <td>0.555686</td>\n",
              "      <td>0.002163</td>\n",
              "      <td>-0.081138</td>\n",
              "      <td>-0.156679</td>\n",
              "    </tr>\n",
              "    <tr>\n",
              "      <th>257</th>\n",
              "      <td>0.588086</td>\n",
              "      <td>0.310431</td>\n",
              "      <td>-0.069122</td>\n",
              "      <td>-0.293066</td>\n",
              "    </tr>\n",
              "    <tr>\n",
              "      <th>258</th>\n",
              "      <td>0.591400</td>\n",
              "      <td>0.759627</td>\n",
              "      <td>0.011083</td>\n",
              "      <td>-0.429454</td>\n",
              "    </tr>\n",
              "  </tbody>\n",
              "</table>\n",
              "<p>259 rows × 4 columns</p>\n",
              "</div>"
            ],
            "text/plain": [
              "        stock      elon    reddit      news\n",
              "0    0.444771  0.506010  0.000000  0.366396\n",
              "1    0.444771  0.397090  0.000000  0.149246\n",
              "2    0.444771  0.375703  0.000000  0.248707\n",
              "3    0.513629 -0.036051  0.000000 -0.233317\n",
              "4    0.528886  0.067608  0.000000  0.020349\n",
              "..        ...       ...       ...       ...\n",
              "254  0.532200  0.069704 -0.026345  0.237941\n",
              "255  0.551429 -0.072337  0.011645  0.765736\n",
              "256  0.555686  0.002163 -0.081138 -0.156679\n",
              "257  0.588086  0.310431 -0.069122 -0.293066\n",
              "258  0.591400  0.759627  0.011083 -0.429454\n",
              "\n",
              "[259 rows x 4 columns]"
            ]
          },
          "metadata": {},
          "execution_count": 82
        }
      ]
    },
    {
      "cell_type": "code",
      "metadata": {
        "colab": {
          "base_uri": "https://localhost:8080/"
        },
        "id": "i064wp6-8dt1",
        "outputId": "8310565f-e254-4b5e-ec91-e9b3c92168a2"
      },
      "source": [
        "data.isna().sum()"
      ],
      "execution_count": null,
      "outputs": [
        {
          "output_type": "execute_result",
          "data": {
            "text/plain": [
              "stock     0\n",
              "elon      0\n",
              "reddit    0\n",
              "news      0\n",
              "dtype: int64"
            ]
          },
          "metadata": {},
          "execution_count": 83
        }
      ]
    },
    {
      "cell_type": "code",
      "metadata": {
        "id": "MaTIyZqfOWEz"
      },
      "source": [
        "scaler  = MinMaxScaler()\n",
        "scaler.fit(data.iloc[:,1:].to_numpy())\n",
        "data.iloc[:,1:] = scaler.transform(data.iloc[:,1:].to_numpy())"
      ],
      "execution_count": null,
      "outputs": []
    },
    {
      "cell_type": "code",
      "metadata": {
        "colab": {
          "base_uri": "https://localhost:8080/",
          "height": 424
        },
        "id": "iZaIpJzy8tH1",
        "outputId": "b6e87b8d-f53b-4848-edef-83f748566922"
      },
      "source": [
        "data"
      ],
      "execution_count": null,
      "outputs": [
        {
          "output_type": "execute_result",
          "data": {
            "text/html": [
              "<div>\n",
              "<style scoped>\n",
              "    .dataframe tbody tr th:only-of-type {\n",
              "        vertical-align: middle;\n",
              "    }\n",
              "\n",
              "    .dataframe tbody tr th {\n",
              "        vertical-align: top;\n",
              "    }\n",
              "\n",
              "    .dataframe thead th {\n",
              "        text-align: right;\n",
              "    }\n",
              "</style>\n",
              "<table border=\"1\" class=\"dataframe\">\n",
              "  <thead>\n",
              "    <tr style=\"text-align: right;\">\n",
              "      <th></th>\n",
              "      <th>stock</th>\n",
              "      <th>elon</th>\n",
              "      <th>reddit</th>\n",
              "      <th>news</th>\n",
              "    </tr>\n",
              "  </thead>\n",
              "  <tbody>\n",
              "    <tr>\n",
              "      <th>0</th>\n",
              "      <td>0.444771</td>\n",
              "      <td>0.721979</td>\n",
              "      <td>0.452021</td>\n",
              "      <td>0.702044</td>\n",
              "    </tr>\n",
              "    <tr>\n",
              "      <th>1</th>\n",
              "      <td>0.444771</td>\n",
              "      <td>0.659272</td>\n",
              "      <td>0.452021</td>\n",
              "      <td>0.587116</td>\n",
              "    </tr>\n",
              "    <tr>\n",
              "      <th>2</th>\n",
              "      <td>0.444771</td>\n",
              "      <td>0.646959</td>\n",
              "      <td>0.452021</td>\n",
              "      <td>0.639756</td>\n",
              "    </tr>\n",
              "    <tr>\n",
              "      <th>3</th>\n",
              "      <td>0.513629</td>\n",
              "      <td>0.409908</td>\n",
              "      <td>0.452021</td>\n",
              "      <td>0.384641</td>\n",
              "    </tr>\n",
              "    <tr>\n",
              "      <th>4</th>\n",
              "      <td>0.528886</td>\n",
              "      <td>0.469586</td>\n",
              "      <td>0.452021</td>\n",
              "      <td>0.518895</td>\n",
              "    </tr>\n",
              "    <tr>\n",
              "      <th>...</th>\n",
              "      <td>...</td>\n",
              "      <td>...</td>\n",
              "      <td>...</td>\n",
              "      <td>...</td>\n",
              "    </tr>\n",
              "    <tr>\n",
              "      <th>254</th>\n",
              "      <td>0.532200</td>\n",
              "      <td>0.470792</td>\n",
              "      <td>0.330724</td>\n",
              "      <td>0.634058</td>\n",
              "    </tr>\n",
              "    <tr>\n",
              "      <th>255</th>\n",
              "      <td>0.551429</td>\n",
              "      <td>0.389017</td>\n",
              "      <td>0.505636</td>\n",
              "      <td>0.913398</td>\n",
              "    </tr>\n",
              "    <tr>\n",
              "      <th>256</th>\n",
              "      <td>0.555686</td>\n",
              "      <td>0.431908</td>\n",
              "      <td>0.078441</td>\n",
              "      <td>0.425202</td>\n",
              "    </tr>\n",
              "    <tr>\n",
              "      <th>257</th>\n",
              "      <td>0.588086</td>\n",
              "      <td>0.609382</td>\n",
              "      <td>0.133764</td>\n",
              "      <td>0.353018</td>\n",
              "    </tr>\n",
              "    <tr>\n",
              "      <th>258</th>\n",
              "      <td>0.591400</td>\n",
              "      <td>0.867989</td>\n",
              "      <td>0.503048</td>\n",
              "      <td>0.280834</td>\n",
              "    </tr>\n",
              "  </tbody>\n",
              "</table>\n",
              "<p>259 rows × 4 columns</p>\n",
              "</div>"
            ],
            "text/plain": [
              "        stock      elon    reddit      news\n",
              "0    0.444771  0.721979  0.452021  0.702044\n",
              "1    0.444771  0.659272  0.452021  0.587116\n",
              "2    0.444771  0.646959  0.452021  0.639756\n",
              "3    0.513629  0.409908  0.452021  0.384641\n",
              "4    0.528886  0.469586  0.452021  0.518895\n",
              "..        ...       ...       ...       ...\n",
              "254  0.532200  0.470792  0.330724  0.634058\n",
              "255  0.551429  0.389017  0.505636  0.913398\n",
              "256  0.555686  0.431908  0.078441  0.425202\n",
              "257  0.588086  0.609382  0.133764  0.353018\n",
              "258  0.591400  0.867989  0.503048  0.280834\n",
              "\n",
              "[259 rows x 4 columns]"
            ]
          },
          "metadata": {},
          "execution_count": 85
        }
      ]
    },
    {
      "cell_type": "markdown",
      "metadata": {
        "id": "0B06YGBe9UDF"
      },
      "source": [
        "# Create windows for tensorflow"
      ]
    },
    {
      "cell_type": "code",
      "metadata": {
        "id": "5rU7oz6r94T-"
      },
      "source": [
        "import tensorflow as tf"
      ],
      "execution_count": null,
      "outputs": []
    },
    {
      "cell_type": "code",
      "metadata": {
        "id": "Pfvb4HIg9S5H"
      },
      "source": [
        "dataset = tf.data.Dataset.from_tensor_slices(data)\n",
        "\n",
        "dataset = dataset.window(28, shift=1, drop_remainder=True)\n",
        "\n",
        "dataset = dataset.flat_map(lambda w: w.batch(28))\n",
        "\n",
        "dataset = dataset.map(lambda w: (w[:21], w[21:,0]))"
      ],
      "execution_count": null,
      "outputs": []
    },
    {
      "cell_type": "code",
      "metadata": {
        "colab": {
          "base_uri": "https://localhost:8080/"
        },
        "id": "1xw1b9EkBVUI",
        "outputId": "4f997cf6-e382-4e09-d5ef-9d6ec89a0157"
      },
      "source": [
        "size = sum(1 for X,y in dataset)\n",
        "for X, y in dataset.take(1):\n",
        "  print(\"Input:\", X.numpy(), \"Target:\", y.numpy())"
      ],
      "execution_count": null,
      "outputs": [
        {
          "output_type": "stream",
          "name": "stdout",
          "text": [
            "Input: [[0.44477143 0.72197878 0.452021   0.70204426]\n",
            " [0.44477143 0.65927193 0.452021   0.58711558]\n",
            " [0.44477143 0.64695935 0.452021   0.63975636]\n",
            " [0.51362857 0.40990793 0.452021   0.38464059]\n",
            " [0.52888571 0.46958577 0.452021   0.5188954 ]\n",
            " [0.58851429 0.4701776  0.452021   0.32040764]\n",
            " [0.76011429 0.47076943 0.452021   0.50533557]\n",
            " [0.94291429 0.58243387 0.452021   0.60502952]\n",
            " [0.94291429 0.62863436 0.452021   0.60442066]\n",
            " [0.94291429 0.45548311 0.452021   0.5059418 ]\n",
            " [0.74625714 0.57413146 0.452021   0.45069572]\n",
            " [0.85554286 0.59005811 0.452021   0.6089151 ]\n",
            " [0.86974286 0.47683708 0.452021   0.47929249]\n",
            " [0.84285714 0.36361604 0.452021   0.41527245]\n",
            " [0.78902857 0.63001946 0.452021   0.5096471 ]\n",
            " [0.78902857 0.56157798 0.452021   0.94105479]\n",
            " [0.78902857 0.99146735 0.452021   0.72642916]\n",
            " [0.78902857 0.63290191 0.452021   0.0086692 ]\n",
            " [0.84157143 0.81645095 0.452021   0.0086692 ]\n",
            " [0.85842857 1.         0.452021   0.18253416]\n",
            " [0.84282857 0.60761825 0.452021   0.35639912]] Target: [0.84754286 0.84754286 0.84754286 0.94514286 0.95168571 0.8976\n",
            " 0.81551429]\n"
          ]
        }
      ]
    },
    {
      "cell_type": "code",
      "metadata": {
        "id": "9wBAA_S7EDkP"
      },
      "source": [
        "train_dataset = dataset.take(size).shuffle(10).batch(8).prefetch(1)\n",
        "test_dataset = dataset.skip(size-7).batch(8).prefetch(1)"
      ],
      "execution_count": null,
      "outputs": []
    },
    {
      "cell_type": "code",
      "metadata": {
        "colab": {
          "base_uri": "https://localhost:8080/"
        },
        "id": "nRXd0p1CEp5H",
        "outputId": "8defde27-b3be-4028-8678-555974154663"
      },
      "source": [
        "for i,j in test_dataset:\n",
        "  print(i,j)"
      ],
      "execution_count": null,
      "outputs": [
        {
          "output_type": "stream",
          "name": "stdout",
          "text": [
            "tf.Tensor(\n",
            "[[[0.47762857 0.59172947 0.51151479 0.01280433]\n",
            "  [0.47762857 0.49703976 0.47893533 0.5202217 ]\n",
            "  [0.38905714 0.99135625 0.16831186 0.44170826]\n",
            "  [0.3306     0.9824216  0.14537593 0.44987195]\n",
            "  [0.39711429 0.54655532 0.33530191 0.41112763]\n",
            "  [0.35277143 0.95511286 0.36936832 0.61868594]\n",
            "  [0.37217143 0.48108422 1.         0.48399122]\n",
            "  [0.37217143 0.68587495 0.24470579 0.48399122]\n",
            "  [0.37217143 0.57799265 0.39711424 0.62959127]\n",
            "  [0.44657143 0.47011035 0.2603303  0.62959127]\n",
            "  [0.45282857 0.61038944 0.41849211 0.64609504]\n",
            "  [0.46057143 0.5828189  0.48530384 0.46398261]\n",
            "  [0.43188571 0.53718406 0.37104129 0.25046064]\n",
            "  [0.46262857 0.67840122 0.65321072 0.48324325]\n",
            "  [0.46262857 0.46205261 0.17870315 0.44847029]\n",
            "  [0.46262857 0.52849103 0.12589763 0.0073266 ]\n",
            "  [0.51688571 0.62494266 0.42756703 0.57147175]\n",
            "  [0.53062857 0.39952733 0.23371142 0.27300218]\n",
            "  [0.52597143 0.46743511 0.55351344 0.59769174]\n",
            "  [0.52111429 0.56625441 0.44557085 0.25832078]\n",
            "  [0.52448571 0.44921049 0.22645945 0.52022226]]\n",
            "\n",
            " [[0.47762857 0.49703976 0.47893533 0.5202217 ]\n",
            "  [0.38905714 0.99135625 0.16831186 0.44170826]\n",
            "  [0.3306     0.9824216  0.14537593 0.44987195]\n",
            "  [0.39711429 0.54655532 0.33530191 0.41112763]\n",
            "  [0.35277143 0.95511286 0.36936832 0.61868594]\n",
            "  [0.37217143 0.48108422 1.         0.48399122]\n",
            "  [0.37217143 0.68587495 0.24470579 0.48399122]\n",
            "  [0.37217143 0.57799265 0.39711424 0.62959127]\n",
            "  [0.44657143 0.47011035 0.2603303  0.62959127]\n",
            "  [0.45282857 0.61038944 0.41849211 0.64609504]\n",
            "  [0.46057143 0.5828189  0.48530384 0.46398261]\n",
            "  [0.43188571 0.53718406 0.37104129 0.25046064]\n",
            "  [0.46262857 0.67840122 0.65321072 0.48324325]\n",
            "  [0.46262857 0.46205261 0.17870315 0.44847029]\n",
            "  [0.46262857 0.52849103 0.12589763 0.0073266 ]\n",
            "  [0.51688571 0.62494266 0.42756703 0.57147175]\n",
            "  [0.53062857 0.39952733 0.23371142 0.27300218]\n",
            "  [0.52597143 0.46743511 0.55351344 0.59769174]\n",
            "  [0.52111429 0.56625441 0.44557085 0.25832078]\n",
            "  [0.52448571 0.44921049 0.22645945 0.52022226]\n",
            "  [0.52448571 0.64616545 0.34330745 0.54476765]]\n",
            "\n",
            " [[0.38905714 0.99135625 0.16831186 0.44170826]\n",
            "  [0.3306     0.9824216  0.14537593 0.44987195]\n",
            "  [0.39711429 0.54655532 0.33530191 0.41112763]\n",
            "  [0.35277143 0.95511286 0.36936832 0.61868594]\n",
            "  [0.37217143 0.48108422 1.         0.48399122]\n",
            "  [0.37217143 0.68587495 0.24470579 0.48399122]\n",
            "  [0.37217143 0.57799265 0.39711424 0.62959127]\n",
            "  [0.44657143 0.47011035 0.2603303  0.62959127]\n",
            "  [0.45282857 0.61038944 0.41849211 0.64609504]\n",
            "  [0.46057143 0.5828189  0.48530384 0.46398261]\n",
            "  [0.43188571 0.53718406 0.37104129 0.25046064]\n",
            "  [0.46262857 0.67840122 0.65321072 0.48324325]\n",
            "  [0.46262857 0.46205261 0.17870315 0.44847029]\n",
            "  [0.46262857 0.52849103 0.12589763 0.0073266 ]\n",
            "  [0.51688571 0.62494266 0.42756703 0.57147175]\n",
            "  [0.53062857 0.39952733 0.23371142 0.27300218]\n",
            "  [0.52597143 0.46743511 0.55351344 0.59769174]\n",
            "  [0.52111429 0.56625441 0.44557085 0.25832078]\n",
            "  [0.52448571 0.44921049 0.22645945 0.52022226]\n",
            "  [0.52448571 0.64616545 0.34330745 0.54476765]\n",
            "  [0.52448571 0.61293262 0.33033414 0.52036902]]\n",
            "\n",
            " [[0.3306     0.9824216  0.14537593 0.44987195]\n",
            "  [0.39711429 0.54655532 0.33530191 0.41112763]\n",
            "  [0.35277143 0.95511286 0.36936832 0.61868594]\n",
            "  [0.37217143 0.48108422 1.         0.48399122]\n",
            "  [0.37217143 0.68587495 0.24470579 0.48399122]\n",
            "  [0.37217143 0.57799265 0.39711424 0.62959127]\n",
            "  [0.44657143 0.47011035 0.2603303  0.62959127]\n",
            "  [0.45282857 0.61038944 0.41849211 0.64609504]\n",
            "  [0.46057143 0.5828189  0.48530384 0.46398261]\n",
            "  [0.43188571 0.53718406 0.37104129 0.25046064]\n",
            "  [0.46262857 0.67840122 0.65321072 0.48324325]\n",
            "  [0.46262857 0.46205261 0.17870315 0.44847029]\n",
            "  [0.46262857 0.52849103 0.12589763 0.0073266 ]\n",
            "  [0.51688571 0.62494266 0.42756703 0.57147175]\n",
            "  [0.53062857 0.39952733 0.23371142 0.27300218]\n",
            "  [0.52597143 0.46743511 0.55351344 0.59769174]\n",
            "  [0.52111429 0.56625441 0.44557085 0.25832078]\n",
            "  [0.52448571 0.44921049 0.22645945 0.52022226]\n",
            "  [0.52448571 0.64616545 0.34330745 0.54476765]\n",
            "  [0.52448571 0.61293262 0.33033414 0.52036902]\n",
            "  [0.52448571 0.5796998  0.38719257 0.60951181]]\n",
            "\n",
            " [[0.39711429 0.54655532 0.33530191 0.41112763]\n",
            "  [0.35277143 0.95511286 0.36936832 0.61868594]\n",
            "  [0.37217143 0.48108422 1.         0.48399122]\n",
            "  [0.37217143 0.68587495 0.24470579 0.48399122]\n",
            "  [0.37217143 0.57799265 0.39711424 0.62959127]\n",
            "  [0.44657143 0.47011035 0.2603303  0.62959127]\n",
            "  [0.45282857 0.61038944 0.41849211 0.64609504]\n",
            "  [0.46057143 0.5828189  0.48530384 0.46398261]\n",
            "  [0.43188571 0.53718406 0.37104129 0.25046064]\n",
            "  [0.46262857 0.67840122 0.65321072 0.48324325]\n",
            "  [0.46262857 0.46205261 0.17870315 0.44847029]\n",
            "  [0.46262857 0.52849103 0.12589763 0.0073266 ]\n",
            "  [0.51688571 0.62494266 0.42756703 0.57147175]\n",
            "  [0.53062857 0.39952733 0.23371142 0.27300218]\n",
            "  [0.52597143 0.46743511 0.55351344 0.59769174]\n",
            "  [0.52111429 0.56625441 0.44557085 0.25832078]\n",
            "  [0.52448571 0.44921049 0.22645945 0.52022226]\n",
            "  [0.52448571 0.64616545 0.34330745 0.54476765]\n",
            "  [0.52448571 0.61293262 0.33033414 0.52036902]\n",
            "  [0.52448571 0.5796998  0.38719257 0.60951181]\n",
            "  [0.57977143 0.55798512 0.35172091 0.6986546 ]]\n",
            "\n",
            " [[0.35277143 0.95511286 0.36936832 0.61868594]\n",
            "  [0.37217143 0.48108422 1.         0.48399122]\n",
            "  [0.37217143 0.68587495 0.24470579 0.48399122]\n",
            "  [0.37217143 0.57799265 0.39711424 0.62959127]\n",
            "  [0.44657143 0.47011035 0.2603303  0.62959127]\n",
            "  [0.45282857 0.61038944 0.41849211 0.64609504]\n",
            "  [0.46057143 0.5828189  0.48530384 0.46398261]\n",
            "  [0.43188571 0.53718406 0.37104129 0.25046064]\n",
            "  [0.46262857 0.67840122 0.65321072 0.48324325]\n",
            "  [0.46262857 0.46205261 0.17870315 0.44847029]\n",
            "  [0.46262857 0.52849103 0.12589763 0.0073266 ]\n",
            "  [0.51688571 0.62494266 0.42756703 0.57147175]\n",
            "  [0.53062857 0.39952733 0.23371142 0.27300218]\n",
            "  [0.52597143 0.46743511 0.55351344 0.59769174]\n",
            "  [0.52111429 0.56625441 0.44557085 0.25832078]\n",
            "  [0.52448571 0.44921049 0.22645945 0.52022226]\n",
            "  [0.52448571 0.64616545 0.34330745 0.54476765]\n",
            "  [0.52448571 0.61293262 0.33033414 0.52036902]\n",
            "  [0.52448571 0.5796998  0.38719257 0.60951181]\n",
            "  [0.57977143 0.55798512 0.35172091 0.6986546 ]\n",
            "  [0.58248571 0.53627043 0.18757158 0.64492141]]\n",
            "\n",
            " [[0.37217143 0.48108422 1.         0.48399122]\n",
            "  [0.37217143 0.68587495 0.24470579 0.48399122]\n",
            "  [0.37217143 0.57799265 0.39711424 0.62959127]\n",
            "  [0.44657143 0.47011035 0.2603303  0.62959127]\n",
            "  [0.45282857 0.61038944 0.41849211 0.64609504]\n",
            "  [0.46057143 0.5828189  0.48530384 0.46398261]\n",
            "  [0.43188571 0.53718406 0.37104129 0.25046064]\n",
            "  [0.46262857 0.67840122 0.65321072 0.48324325]\n",
            "  [0.46262857 0.46205261 0.17870315 0.44847029]\n",
            "  [0.46262857 0.52849103 0.12589763 0.0073266 ]\n",
            "  [0.51688571 0.62494266 0.42756703 0.57147175]\n",
            "  [0.53062857 0.39952733 0.23371142 0.27300218]\n",
            "  [0.52597143 0.46743511 0.55351344 0.59769174]\n",
            "  [0.52111429 0.56625441 0.44557085 0.25832078]\n",
            "  [0.52448571 0.44921049 0.22645945 0.52022226]\n",
            "  [0.52448571 0.64616545 0.34330745 0.54476765]\n",
            "  [0.52448571 0.61293262 0.33033414 0.52036902]\n",
            "  [0.52448571 0.5796998  0.38719257 0.60951181]\n",
            "  [0.57977143 0.55798512 0.35172091 0.6986546 ]\n",
            "  [0.58248571 0.53627043 0.18757158 0.64492141]\n",
            "  [0.58531429 0.47290986 0.35644978 0.59118821]]], shape=(7, 21, 4), dtype=float64) tf.Tensor(\n",
            "[[0.52448571 0.52448571 0.52448571 0.57977143 0.58248571 0.58531429\n",
            "  0.5322    ]\n",
            " [0.52448571 0.52448571 0.57977143 0.58248571 0.58531429 0.5322\n",
            "  0.5322    ]\n",
            " [0.52448571 0.57977143 0.58248571 0.58531429 0.5322     0.5322\n",
            "  0.5322    ]\n",
            " [0.57977143 0.58248571 0.58531429 0.5322     0.5322     0.5322\n",
            "  0.55142857]\n",
            " [0.58248571 0.58531429 0.5322     0.5322     0.5322     0.55142857\n",
            "  0.55568571]\n",
            " [0.58531429 0.5322     0.5322     0.5322     0.55142857 0.55568571\n",
            "  0.58808571]\n",
            " [0.5322     0.5322     0.5322     0.55142857 0.55568571 0.58808571\n",
            "  0.5914    ]], shape=(7, 7), dtype=float64)\n"
          ]
        }
      ]
    },
    {
      "cell_type": "markdown",
      "metadata": {
        "id": "iMrqoTreJPjY"
      },
      "source": [
        "# Model"
      ]
    },
    {
      "cell_type": "code",
      "metadata": {
        "id": "FFzvzVaUFo8O"
      },
      "source": [
        "import tensorflow.keras as keras\n",
        "from tensorflow.keras import Sequential\n",
        "from keras.layers import Input, Flatten, Dense, Dropout, LSTM, GRU\n",
        "from tensorflow.keras import callbacks"
      ],
      "execution_count": null,
      "outputs": []
    },
    {
      "cell_type": "code",
      "metadata": {
        "colab": {
          "base_uri": "https://localhost:8080/"
        },
        "id": "Z1YEiUCfJaXQ",
        "outputId": "2c5ac884-a934-45be-9dff-7e0f0bbc2d8b"
      },
      "source": [
        "model1 = Sequential([\n",
        "    Input(shape=(21,4)),\n",
        "    #Model layers\n",
        "    LSTM(60, return_sequences=True),\n",
        "    LSTM(60, return_sequences=True),\n",
        "    Flatten(),\n",
        "    Dense(60, activation=\"relu\"),\n",
        "    Dense(32, activation=\"relu\"),\n",
        "    Dropout(0.2),\n",
        "    Dense(16, activation=\"relu\"),\n",
        "    Dropout(0.4),\n",
        "    Dense(7)\n",
        "])\n",
        "\n",
        "model2 = Sequential([\n",
        "    Input(shape=(21,4)),\n",
        "    #Model layers\n",
        "    LSTM(60, return_sequences=True),\n",
        "    Flatten(),\n",
        "    Dense(60, activation=\"relu\"),\n",
        "    Dense(16, activation=\"relu\"),\n",
        "    Dense(7)\n",
        "])\n",
        "\n",
        "model3 = Sequential([\n",
        "    Input(shape=(21,4)),\n",
        "    #Model layers\n",
        "    LSTM(128, return_sequences=True),\n",
        "    Flatten(),\n",
        "    Dense(60, activation=\"relu\"),\n",
        "    Dense(16, activation=\"relu\"),\n",
        "    Dense(7)\n",
        "])\n",
        "\n",
        "model4 = Sequential([\n",
        "    Input(shape=(21,4)),\n",
        "    #Model layers\n",
        "    LSTM(80, return_sequences=True),\n",
        "    Flatten(),\n",
        "    Dense(600, activation=\"relu\"),\n",
        "    Dense(120, activation=\"relu\"),\n",
        "    Dense(16, activation=\"relu\"),\n",
        "    Dense(7)\n",
        "])\n",
        "\n",
        "model5 = Sequential([\n",
        "    Input(shape=(21,4)),\n",
        "    #Model layers\n",
        "    LSTM(80, return_sequences=True),\n",
        "    GRU(80, return_sequences=True),\n",
        "    Flatten(),\n",
        "    Dense(600, activation=\"relu\"),\n",
        "    Dense(120, activation=\"relu\"),\n",
        "    Dense(16, activation=\"relu\"),\n",
        "    Dense(7)\n",
        "])\n",
        "\n",
        "model6 = Sequential([\n",
        "    Input(shape=(21,4)),\n",
        "    #Model layers\n",
        "    GRU(80, return_sequences=True),\n",
        "    Flatten(),\n",
        "    Dense(600, activation=\"relu\"),\n",
        "    Dense(120, activation=\"relu\"),\n",
        "    Dense(16, activation=\"relu\"),\n",
        "    Dense(7)\n",
        "])\n",
        "\n",
        "model = model6\n",
        "\n",
        "model.summary()"
      ],
      "execution_count": null,
      "outputs": [
        {
          "output_type": "stream",
          "name": "stdout",
          "text": [
            "Model: \"sequential_17\"\n",
            "_________________________________________________________________\n",
            "Layer (type)                 Output Shape              Param #   \n",
            "=================================================================\n",
            "gru_5 (GRU)                  (None, 21, 80)            20640     \n",
            "_________________________________________________________________\n",
            "flatten_17 (Flatten)         (None, 1680)              0         \n",
            "_________________________________________________________________\n",
            "dense_62 (Dense)             (None, 600)               1008600   \n",
            "_________________________________________________________________\n",
            "dense_63 (Dense)             (None, 120)               72120     \n",
            "_________________________________________________________________\n",
            "dense_64 (Dense)             (None, 16)                1936      \n",
            "_________________________________________________________________\n",
            "dense_65 (Dense)             (None, 7)                 119       \n",
            "=================================================================\n",
            "Total params: 1,103,415\n",
            "Trainable params: 1,103,415\n",
            "Non-trainable params: 0\n",
            "_________________________________________________________________\n"
          ]
        }
      ]
    },
    {
      "cell_type": "code",
      "metadata": {
        "id": "a5dicBeDJuX2"
      },
      "source": [
        "model.compile(\n",
        "    optimizer='adam',\n",
        "    loss=tf.keras.losses.Huber(),\n",
        "    metrics=['mae'],\n",
        ")\n",
        "\n",
        "early_stopping = callbacks.EarlyStopping(\n",
        "    min_delta=0.0001, # minimium amount of change to count as an improvement\n",
        "    patience=100, # how many epochs to wait before stopping\n",
        "    restore_best_weights=True,\n",
        "    monitor=\"loss\",\n",
        ")\n",
        "\n",
        "reduceLR = callbacks.ReduceLROnPlateau(\n",
        "    monitor=\"loss\",\n",
        "    factor=0.1,\n",
        "    patience=50,\n",
        "    verbose=1,\n",
        "    mode=\"auto\",\n",
        "    min_delta=0.0001,\n",
        "    cooldown=25\n",
        ")"
      ],
      "execution_count": null,
      "outputs": []
    },
    {
      "cell_type": "code",
      "metadata": {
        "colab": {
          "base_uri": "https://localhost:8080/"
        },
        "id": "x117GdhvKKPn",
        "outputId": "74b9011a-4e05-44f5-8fc5-cbe28decd8a7"
      },
      "source": [
        "history = model.fit(\n",
        "    train_dataset,\n",
        "    batch_size = 8,\n",
        "    epochs=500,\n",
        "    callbacks=[early_stopping, reduceLR]\n",
        ")\n",
        "\n",
        "history_frame = pd.DataFrame(history.history)"
      ],
      "execution_count": null,
      "outputs": [
        {
          "output_type": "stream",
          "name": "stdout",
          "text": [
            "Epoch 1/500\n",
            "29/29 [==============================] - 3s 10ms/step - loss: 0.0567 - mae: 0.2487\n",
            "Epoch 2/500\n",
            "29/29 [==============================] - 0s 9ms/step - loss: 0.0300 - mae: 0.1926\n",
            "Epoch 3/500\n",
            "29/29 [==============================] - 0s 9ms/step - loss: 0.0251 - mae: 0.1714\n",
            "Epoch 4/500\n",
            "29/29 [==============================] - 0s 10ms/step - loss: 0.0217 - mae: 0.1590\n",
            "Epoch 5/500\n",
            "29/29 [==============================] - 0s 9ms/step - loss: 0.0202 - mae: 0.1650\n",
            "Epoch 6/500\n",
            "29/29 [==============================] - 0s 9ms/step - loss: 0.0203 - mae: 0.1493\n",
            "Epoch 7/500\n",
            "29/29 [==============================] - 0s 10ms/step - loss: 0.0266 - mae: 0.1664\n",
            "Epoch 8/500\n",
            "29/29 [==============================] - 0s 9ms/step - loss: 0.0132 - mae: 0.1353\n",
            "Epoch 9/500\n",
            "29/29 [==============================] - 0s 10ms/step - loss: 0.0245 - mae: 0.1799\n",
            "Epoch 10/500\n",
            "29/29 [==============================] - 0s 9ms/step - loss: 0.0164 - mae: 0.1541\n",
            "Epoch 11/500\n",
            "29/29 [==============================] - 0s 9ms/step - loss: 0.0135 - mae: 0.1360\n",
            "Epoch 12/500\n",
            "29/29 [==============================] - 0s 9ms/step - loss: 0.0089 - mae: 0.1115\n",
            "Epoch 13/500\n",
            "29/29 [==============================] - 0s 10ms/step - loss: 0.0082 - mae: 0.1053\n",
            "Epoch 14/500\n",
            "29/29 [==============================] - 0s 10ms/step - loss: 0.0063 - mae: 0.0932\n",
            "Epoch 15/500\n",
            "29/29 [==============================] - 0s 10ms/step - loss: 0.0056 - mae: 0.0865\n",
            "Epoch 16/500\n",
            "29/29 [==============================] - 0s 10ms/step - loss: 0.0054 - mae: 0.0848\n",
            "Epoch 17/500\n",
            "29/29 [==============================] - 0s 10ms/step - loss: 0.0059 - mae: 0.0897\n",
            "Epoch 18/500\n",
            "29/29 [==============================] - 0s 10ms/step - loss: 0.0057 - mae: 0.0877\n",
            "Epoch 19/500\n",
            "29/29 [==============================] - 0s 9ms/step - loss: 0.0045 - mae: 0.0768\n",
            "Epoch 20/500\n",
            "29/29 [==============================] - 0s 9ms/step - loss: 0.0042 - mae: 0.0735\n",
            "Epoch 21/500\n",
            "29/29 [==============================] - 0s 9ms/step - loss: 0.0038 - mae: 0.0701\n",
            "Epoch 22/500\n",
            "29/29 [==============================] - 0s 10ms/step - loss: 0.0035 - mae: 0.0676\n",
            "Epoch 23/500\n",
            "29/29 [==============================] - 0s 9ms/step - loss: 0.0030 - mae: 0.0609\n",
            "Epoch 24/500\n",
            "29/29 [==============================] - 0s 11ms/step - loss: 0.0033 - mae: 0.0636\n",
            "Epoch 25/500\n",
            "29/29 [==============================] - 0s 10ms/step - loss: 0.0043 - mae: 0.0746\n",
            "Epoch 26/500\n",
            "29/29 [==============================] - 0s 10ms/step - loss: 0.0053 - mae: 0.0828\n",
            "Epoch 27/500\n",
            "29/29 [==============================] - 0s 10ms/step - loss: 0.0056 - mae: 0.0786\n",
            "Epoch 28/500\n",
            "29/29 [==============================] - 0s 10ms/step - loss: 0.0043 - mae: 0.0755\n",
            "Epoch 29/500\n",
            "29/29 [==============================] - 0s 10ms/step - loss: 0.0065 - mae: 0.0915\n",
            "Epoch 30/500\n",
            "29/29 [==============================] - 0s 10ms/step - loss: 0.0076 - mae: 0.0982\n",
            "Epoch 31/500\n",
            "29/29 [==============================] - 0s 9ms/step - loss: 0.0072 - mae: 0.0928\n",
            "Epoch 32/500\n",
            "29/29 [==============================] - 0s 10ms/step - loss: 0.0085 - mae: 0.1064\n",
            "Epoch 33/500\n",
            "29/29 [==============================] - 0s 10ms/step - loss: 0.0081 - mae: 0.1008\n",
            "Epoch 34/500\n",
            "29/29 [==============================] - 0s 10ms/step - loss: 0.0115 - mae: 0.1257\n",
            "Epoch 35/500\n",
            "29/29 [==============================] - 0s 10ms/step - loss: 0.0094 - mae: 0.1092\n",
            "Epoch 36/500\n",
            "29/29 [==============================] - 0s 10ms/step - loss: 0.0071 - mae: 0.1014\n",
            "Epoch 37/500\n",
            "29/29 [==============================] - 0s 10ms/step - loss: 0.0077 - mae: 0.0973\n",
            "Epoch 38/500\n",
            "29/29 [==============================] - 0s 10ms/step - loss: 0.0074 - mae: 0.0931\n",
            "Epoch 39/500\n",
            "29/29 [==============================] - 0s 10ms/step - loss: 0.0109 - mae: 0.1194\n",
            "Epoch 40/500\n",
            "29/29 [==============================] - 0s 10ms/step - loss: 0.0120 - mae: 0.1236\n",
            "Epoch 41/500\n",
            "29/29 [==============================] - 0s 10ms/step - loss: 0.0057 - mae: 0.0890\n",
            "Epoch 42/500\n",
            "29/29 [==============================] - 0s 10ms/step - loss: 0.0038 - mae: 0.0697\n",
            "Epoch 43/500\n",
            "29/29 [==============================] - 0s 10ms/step - loss: 0.0033 - mae: 0.0640\n",
            "Epoch 44/500\n",
            "29/29 [==============================] - 0s 10ms/step - loss: 0.0029 - mae: 0.0586\n",
            "Epoch 45/500\n",
            "29/29 [==============================] - 0s 10ms/step - loss: 0.0023 - mae: 0.0523\n",
            "Epoch 46/500\n",
            "29/29 [==============================] - 0s 10ms/step - loss: 0.0021 - mae: 0.0509\n",
            "Epoch 47/500\n",
            "29/29 [==============================] - 0s 10ms/step - loss: 0.0021 - mae: 0.0490\n",
            "Epoch 48/500\n",
            "29/29 [==============================] - 0s 10ms/step - loss: 0.0019 - mae: 0.0477\n",
            "Epoch 49/500\n",
            "29/29 [==============================] - 0s 10ms/step - loss: 0.0018 - mae: 0.0463\n",
            "Epoch 50/500\n",
            "29/29 [==============================] - 0s 10ms/step - loss: 0.0019 - mae: 0.0461\n",
            "Epoch 51/500\n",
            "29/29 [==============================] - 0s 10ms/step - loss: 0.0018 - mae: 0.0461\n",
            "Epoch 52/500\n",
            "29/29 [==============================] - 0s 10ms/step - loss: 0.0017 - mae: 0.0450\n",
            "Epoch 53/500\n",
            "29/29 [==============================] - 0s 10ms/step - loss: 0.0021 - mae: 0.0483\n",
            "Epoch 54/500\n",
            "29/29 [==============================] - 0s 10ms/step - loss: 0.0026 - mae: 0.0580\n",
            "Epoch 55/500\n",
            "29/29 [==============================] - 0s 10ms/step - loss: 0.0017 - mae: 0.0432\n",
            "Epoch 56/500\n",
            "29/29 [==============================] - 0s 10ms/step - loss: 0.0019 - mae: 0.0467\n",
            "Epoch 57/500\n",
            "29/29 [==============================] - 0s 10ms/step - loss: 0.0017 - mae: 0.0466\n",
            "Epoch 58/500\n",
            "29/29 [==============================] - 0s 10ms/step - loss: 0.0016 - mae: 0.0427\n",
            "Epoch 59/500\n",
            "29/29 [==============================] - 0s 10ms/step - loss: 0.0014 - mae: 0.0396\n",
            "Epoch 60/500\n",
            "29/29 [==============================] - 0s 10ms/step - loss: 0.0014 - mae: 0.0383\n",
            "Epoch 61/500\n",
            "29/29 [==============================] - 0s 10ms/step - loss: 0.0011 - mae: 0.0344\n",
            "Epoch 62/500\n",
            "29/29 [==============================] - 0s 10ms/step - loss: 0.0010 - mae: 0.0334\n",
            "Epoch 63/500\n",
            "29/29 [==============================] - 0s 10ms/step - loss: 0.0010 - mae: 0.0334\n",
            "Epoch 64/500\n",
            "29/29 [==============================] - 0s 10ms/step - loss: 0.0011 - mae: 0.0353\n",
            "Epoch 65/500\n",
            "29/29 [==============================] - 0s 10ms/step - loss: 0.0012 - mae: 0.0366\n",
            "Epoch 66/500\n",
            "29/29 [==============================] - 0s 9ms/step - loss: 0.0013 - mae: 0.0385\n",
            "Epoch 67/500\n",
            "29/29 [==============================] - 0s 10ms/step - loss: 0.0015 - mae: 0.0420\n",
            "Epoch 68/500\n",
            "29/29 [==============================] - 0s 10ms/step - loss: 0.0013 - mae: 0.0393\n",
            "Epoch 69/500\n",
            "29/29 [==============================] - 0s 10ms/step - loss: 0.0013 - mae: 0.0381\n",
            "Epoch 70/500\n",
            "29/29 [==============================] - 0s 10ms/step - loss: 0.0016 - mae: 0.0427\n",
            "Epoch 71/500\n",
            "29/29 [==============================] - 0s 10ms/step - loss: 0.0018 - mae: 0.0459\n",
            "Epoch 72/500\n",
            "29/29 [==============================] - 0s 10ms/step - loss: 0.0012 - mae: 0.0371\n",
            "Epoch 73/500\n",
            "29/29 [==============================] - 0s 10ms/step - loss: 0.0011 - mae: 0.0347\n",
            "Epoch 74/500\n",
            "29/29 [==============================] - 0s 10ms/step - loss: 0.0013 - mae: 0.0364\n",
            "Epoch 75/500\n",
            "29/29 [==============================] - 0s 10ms/step - loss: 9.7583e-04 - mae: 0.0322\n",
            "Epoch 76/500\n",
            "29/29 [==============================] - 0s 10ms/step - loss: 0.0014 - mae: 0.0393\n",
            "Epoch 77/500\n",
            "29/29 [==============================] - 0s 10ms/step - loss: 0.0011 - mae: 0.0361\n",
            "Epoch 78/500\n",
            "29/29 [==============================] - 0s 10ms/step - loss: 0.0012 - mae: 0.0377\n",
            "Epoch 79/500\n",
            "29/29 [==============================] - 0s 10ms/step - loss: 0.0013 - mae: 0.0383\n",
            "Epoch 80/500\n",
            "29/29 [==============================] - 0s 10ms/step - loss: 0.0022 - mae: 0.0509\n",
            "Epoch 81/500\n",
            "29/29 [==============================] - 0s 9ms/step - loss: 0.0028 - mae: 0.0571\n",
            "Epoch 82/500\n",
            "29/29 [==============================] - 0s 10ms/step - loss: 0.0035 - mae: 0.0646\n",
            "Epoch 83/500\n",
            "29/29 [==============================] - 0s 10ms/step - loss: 0.0027 - mae: 0.0554\n",
            "Epoch 84/500\n",
            "29/29 [==============================] - 0s 10ms/step - loss: 0.0026 - mae: 0.0550\n",
            "Epoch 85/500\n",
            "29/29 [==============================] - 0s 10ms/step - loss: 0.0034 - mae: 0.0620\n",
            "Epoch 86/500\n",
            "29/29 [==============================] - 0s 10ms/step - loss: 0.0025 - mae: 0.0530\n",
            "Epoch 87/500\n",
            "29/29 [==============================] - 0s 10ms/step - loss: 0.0018 - mae: 0.0482\n",
            "Epoch 88/500\n",
            "29/29 [==============================] - 0s 10ms/step - loss: 0.0023 - mae: 0.0524\n",
            "Epoch 89/500\n",
            "29/29 [==============================] - 0s 10ms/step - loss: 0.0017 - mae: 0.0446\n",
            "Epoch 90/500\n",
            "29/29 [==============================] - 0s 10ms/step - loss: 0.0013 - mae: 0.0379\n",
            "Epoch 91/500\n",
            "29/29 [==============================] - 0s 10ms/step - loss: 0.0015 - mae: 0.0384\n",
            "Epoch 92/500\n",
            "29/29 [==============================] - 0s 10ms/step - loss: 9.6179e-04 - mae: 0.0313\n",
            "Epoch 93/500\n",
            "29/29 [==============================] - 0s 10ms/step - loss: 0.0014 - mae: 0.0390\n",
            "Epoch 94/500\n",
            "29/29 [==============================] - 0s 10ms/step - loss: 9.6312e-04 - mae: 0.0326\n",
            "Epoch 95/500\n",
            "29/29 [==============================] - 0s 10ms/step - loss: 9.3878e-04 - mae: 0.0328\n",
            "Epoch 96/500\n",
            "29/29 [==============================] - 0s 10ms/step - loss: 0.0011 - mae: 0.0360\n",
            "Epoch 97/500\n",
            "29/29 [==============================] - 0s 10ms/step - loss: 0.0019 - mae: 0.0475\n",
            "Epoch 98/500\n",
            "29/29 [==============================] - 0s 10ms/step - loss: 0.0019 - mae: 0.0455\n",
            "Epoch 99/500\n",
            "29/29 [==============================] - 0s 11ms/step - loss: 0.0011 - mae: 0.0348\n",
            "Epoch 100/500\n",
            "29/29 [==============================] - 0s 10ms/step - loss: 0.0010 - mae: 0.0349\n",
            "Epoch 101/500\n",
            "29/29 [==============================] - 0s 10ms/step - loss: 8.7084e-04 - mae: 0.0320\n",
            "Epoch 102/500\n",
            "29/29 [==============================] - 0s 10ms/step - loss: 0.0011 - mae: 0.0347\n",
            "Epoch 103/500\n",
            "29/29 [==============================] - 0s 10ms/step - loss: 0.0013 - mae: 0.0391\n",
            "Epoch 104/500\n",
            "29/29 [==============================] - 0s 10ms/step - loss: 0.0010 - mae: 0.0333\n",
            "Epoch 105/500\n",
            "29/29 [==============================] - 0s 10ms/step - loss: 8.3089e-04 - mae: 0.0293\n",
            "Epoch 106/500\n",
            "29/29 [==============================] - 0s 10ms/step - loss: 0.0012 - mae: 0.0363\n",
            "Epoch 107/500\n",
            "29/29 [==============================] - 0s 10ms/step - loss: 0.0011 - mae: 0.0339\n",
            "Epoch 108/500\n",
            "29/29 [==============================] - 0s 10ms/step - loss: 9.6951e-04 - mae: 0.0320\n",
            "Epoch 109/500\n",
            "29/29 [==============================] - 0s 10ms/step - loss: 8.9314e-04 - mae: 0.0306\n",
            "Epoch 110/500\n",
            "29/29 [==============================] - 0s 9ms/step - loss: 0.0010 - mae: 0.0329\n",
            "Epoch 111/500\n",
            "29/29 [==============================] - 0s 10ms/step - loss: 9.1923e-04 - mae: 0.0317\n",
            "Epoch 112/500\n",
            "29/29 [==============================] - 0s 10ms/step - loss: 9.7907e-04 - mae: 0.0322\n",
            "Epoch 113/500\n",
            "29/29 [==============================] - 0s 10ms/step - loss: 8.6055e-04 - mae: 0.0296\n",
            "Epoch 114/500\n",
            "29/29 [==============================] - 0s 10ms/step - loss: 9.0713e-04 - mae: 0.0316\n",
            "Epoch 115/500\n",
            "29/29 [==============================] - 0s 10ms/step - loss: 8.2656e-04 - mae: 0.0297\n",
            "Epoch 116/500\n",
            "29/29 [==============================] - 0s 10ms/step - loss: 7.3928e-04 - mae: 0.0278\n",
            "Epoch 117/500\n",
            "29/29 [==============================] - 0s 10ms/step - loss: 0.0010 - mae: 0.0321\n",
            "Epoch 118/500\n",
            "29/29 [==============================] - 0s 11ms/step - loss: 7.0467e-04 - mae: 0.0276\n",
            "Epoch 119/500\n",
            "29/29 [==============================] - 0s 10ms/step - loss: 9.2148e-04 - mae: 0.0329\n",
            "Epoch 120/500\n",
            "29/29 [==============================] - 0s 10ms/step - loss: 8.8333e-04 - mae: 0.0321\n",
            "Epoch 121/500\n",
            "29/29 [==============================] - 0s 10ms/step - loss: 9.3544e-04 - mae: 0.0318\n",
            "Epoch 122/500\n",
            "29/29 [==============================] - 0s 10ms/step - loss: 0.0014 - mae: 0.0407\n",
            "Epoch 123/500\n",
            "29/29 [==============================] - 0s 10ms/step - loss: 0.0012 - mae: 0.0376\n",
            "Epoch 124/500\n",
            "29/29 [==============================] - 0s 10ms/step - loss: 0.0010 - mae: 0.0348\n",
            "Epoch 125/500\n",
            "29/29 [==============================] - 0s 10ms/step - loss: 0.0011 - mae: 0.0343\n",
            "Epoch 126/500\n",
            "29/29 [==============================] - 0s 11ms/step - loss: 9.4720e-04 - mae: 0.0318\n",
            "Epoch 127/500\n",
            "29/29 [==============================] - 0s 10ms/step - loss: 0.0018 - mae: 0.0451\n",
            "Epoch 128/500\n",
            "29/29 [==============================] - 0s 10ms/step - loss: 0.0014 - mae: 0.0390\n",
            "Epoch 129/500\n",
            "29/29 [==============================] - 0s 10ms/step - loss: 0.0039 - mae: 0.0698\n",
            "Epoch 130/500\n",
            "29/29 [==============================] - 0s 11ms/step - loss: 0.0026 - mae: 0.0567\n",
            "Epoch 131/500\n",
            "29/29 [==============================] - 0s 10ms/step - loss: 0.0016 - mae: 0.0443\n",
            "Epoch 132/500\n",
            "29/29 [==============================] - 0s 10ms/step - loss: 0.0031 - mae: 0.0585\n",
            "Epoch 133/500\n",
            "29/29 [==============================] - 0s 10ms/step - loss: 0.0018 - mae: 0.0458\n",
            "Epoch 134/500\n",
            "29/29 [==============================] - 0s 10ms/step - loss: 0.0027 - mae: 0.0541\n",
            "Epoch 135/500\n",
            "29/29 [==============================] - 0s 10ms/step - loss: 0.0021 - mae: 0.0500\n",
            "Epoch 136/500\n",
            "29/29 [==============================] - 0s 10ms/step - loss: 0.0020 - mae: 0.0486\n",
            "Epoch 137/500\n",
            "29/29 [==============================] - 0s 10ms/step - loss: 0.0015 - mae: 0.0436\n",
            "Epoch 138/500\n",
            "29/29 [==============================] - 0s 10ms/step - loss: 0.0025 - mae: 0.0547\n",
            "Epoch 139/500\n",
            "29/29 [==============================] - 0s 10ms/step - loss: 0.0019 - mae: 0.0495\n",
            "Epoch 140/500\n",
            "29/29 [==============================] - 0s 10ms/step - loss: 0.0021 - mae: 0.0482\n",
            "Epoch 141/500\n",
            "29/29 [==============================] - 0s 11ms/step - loss: 0.0013 - mae: 0.0388\n",
            "Epoch 142/500\n",
            "29/29 [==============================] - 0s 10ms/step - loss: 0.0023 - mae: 0.0530\n",
            "Epoch 143/500\n",
            "29/29 [==============================] - 0s 10ms/step - loss: 0.0015 - mae: 0.0437\n",
            "Epoch 144/500\n",
            "29/29 [==============================] - 0s 11ms/step - loss: 0.0011 - mae: 0.0349\n",
            "Epoch 145/500\n",
            "29/29 [==============================] - 0s 10ms/step - loss: 0.0012 - mae: 0.0379\n",
            "Epoch 146/500\n",
            "29/29 [==============================] - 0s 10ms/step - loss: 0.0019 - mae: 0.0464\n",
            "Epoch 147/500\n",
            "29/29 [==============================] - 0s 10ms/step - loss: 0.0012 - mae: 0.0360\n",
            "Epoch 148/500\n",
            "29/29 [==============================] - 0s 10ms/step - loss: 0.0014 - mae: 0.0383\n",
            "Epoch 149/500\n",
            "29/29 [==============================] - 0s 10ms/step - loss: 8.3485e-04 - mae: 0.0312\n",
            "Epoch 150/500\n",
            "29/29 [==============================] - 0s 10ms/step - loss: 0.0012 - mae: 0.0353\n",
            "Epoch 151/500\n",
            "29/29 [==============================] - 0s 10ms/step - loss: 8.3753e-04 - mae: 0.0311\n",
            "Epoch 152/500\n",
            "29/29 [==============================] - 0s 10ms/step - loss: 0.0018 - mae: 0.0436\n",
            "Epoch 153/500\n",
            "29/29 [==============================] - 0s 10ms/step - loss: 9.7844e-04 - mae: 0.0337\n",
            "Epoch 154/500\n",
            "29/29 [==============================] - 0s 10ms/step - loss: 0.0017 - mae: 0.0443\n",
            "Epoch 155/500\n",
            "29/29 [==============================] - 0s 11ms/step - loss: 0.0014 - mae: 0.0388\n",
            "Epoch 156/500\n",
            "29/29 [==============================] - 0s 10ms/step - loss: 8.3634e-04 - mae: 0.0305\n",
            "Epoch 157/500\n",
            "29/29 [==============================] - 0s 10ms/step - loss: 9.2279e-04 - mae: 0.0319\n",
            "Epoch 158/500\n",
            "29/29 [==============================] - 0s 10ms/step - loss: 9.6392e-04 - mae: 0.0328\n",
            "Epoch 159/500\n",
            "29/29 [==============================] - 0s 10ms/step - loss: 0.0012 - mae: 0.0359\n",
            "Epoch 160/500\n",
            "29/29 [==============================] - 0s 10ms/step - loss: 7.3154e-04 - mae: 0.0277\n",
            "Epoch 161/500\n",
            "29/29 [==============================] - 0s 10ms/step - loss: 9.9805e-04 - mae: 0.0347\n",
            "Epoch 162/500\n",
            "29/29 [==============================] - 0s 10ms/step - loss: 0.0019 - mae: 0.0473\n",
            "Epoch 163/500\n",
            "29/29 [==============================] - 0s 10ms/step - loss: 0.0016 - mae: 0.0419\n",
            "Epoch 164/500\n",
            "29/29 [==============================] - 0s 10ms/step - loss: 0.0017 - mae: 0.0426\n",
            "Epoch 165/500\n",
            "29/29 [==============================] - 0s 10ms/step - loss: 8.7310e-04 - mae: 0.0320\n",
            "Epoch 166/500\n",
            "29/29 [==============================] - 0s 11ms/step - loss: 9.3302e-04 - mae: 0.0334\n",
            "\n",
            "Epoch 00166: ReduceLROnPlateau reducing learning rate to 0.00010000000474974513.\n",
            "Epoch 167/500\n",
            "29/29 [==============================] - 0s 10ms/step - loss: 0.0011 - mae: 0.0356\n",
            "Epoch 168/500\n",
            "29/29 [==============================] - 0s 11ms/step - loss: 5.2069e-04 - mae: 0.0238\n",
            "Epoch 169/500\n",
            "29/29 [==============================] - 0s 10ms/step - loss: 4.5626e-04 - mae: 0.0222\n",
            "Epoch 170/500\n",
            "29/29 [==============================] - 0s 10ms/step - loss: 4.3353e-04 - mae: 0.0215\n",
            "Epoch 171/500\n",
            "29/29 [==============================] - 0s 10ms/step - loss: 4.1330e-04 - mae: 0.0208\n",
            "Epoch 172/500\n",
            "29/29 [==============================] - 0s 10ms/step - loss: 4.0028e-04 - mae: 0.0203\n",
            "Epoch 173/500\n",
            "29/29 [==============================] - 0s 10ms/step - loss: 3.8960e-04 - mae: 0.0199\n",
            "Epoch 174/500\n",
            "29/29 [==============================] - 0s 10ms/step - loss: 3.8134e-04 - mae: 0.0197\n",
            "Epoch 175/500\n",
            "29/29 [==============================] - 0s 10ms/step - loss: 3.7418e-04 - mae: 0.0194\n",
            "Epoch 176/500\n",
            "29/29 [==============================] - 0s 10ms/step - loss: 3.6827e-04 - mae: 0.0192\n",
            "Epoch 177/500\n",
            "29/29 [==============================] - 0s 10ms/step - loss: 3.6306e-04 - mae: 0.0190\n",
            "Epoch 178/500\n",
            "29/29 [==============================] - 0s 10ms/step - loss: 3.5863e-04 - mae: 0.0188\n",
            "Epoch 179/500\n",
            "29/29 [==============================] - 0s 10ms/step - loss: 3.5416e-04 - mae: 0.0186\n",
            "Epoch 180/500\n",
            "29/29 [==============================] - 0s 10ms/step - loss: 3.5091e-04 - mae: 0.0185\n",
            "Epoch 181/500\n",
            "29/29 [==============================] - 0s 11ms/step - loss: 3.4765e-04 - mae: 0.0184\n",
            "Epoch 182/500\n",
            "29/29 [==============================] - 0s 11ms/step - loss: 3.4454e-04 - mae: 0.0183\n",
            "Epoch 183/500\n",
            "29/29 [==============================] - 0s 10ms/step - loss: 3.4170e-04 - mae: 0.0182\n",
            "Epoch 184/500\n",
            "29/29 [==============================] - 0s 10ms/step - loss: 3.3920e-04 - mae: 0.0181\n",
            "Epoch 185/500\n",
            "29/29 [==============================] - 0s 10ms/step - loss: 3.3658e-04 - mae: 0.0180\n",
            "Epoch 186/500\n",
            "29/29 [==============================] - 0s 10ms/step - loss: 3.3447e-04 - mae: 0.0179\n",
            "Epoch 187/500\n",
            "29/29 [==============================] - 0s 10ms/step - loss: 3.3225e-04 - mae: 0.0179\n",
            "Epoch 188/500\n",
            "29/29 [==============================] - 0s 10ms/step - loss: 3.3016e-04 - mae: 0.0178\n",
            "Epoch 189/500\n",
            "29/29 [==============================] - 0s 10ms/step - loss: 3.2841e-04 - mae: 0.0177\n",
            "Epoch 190/500\n",
            "29/29 [==============================] - 0s 10ms/step - loss: 3.2642e-04 - mae: 0.0176\n",
            "Epoch 191/500\n",
            "29/29 [==============================] - 0s 10ms/step - loss: 3.2473e-04 - mae: 0.0176\n",
            "Epoch 192/500\n",
            "29/29 [==============================] - 0s 11ms/step - loss: 3.2326e-04 - mae: 0.0175\n",
            "Epoch 193/500\n",
            "29/29 [==============================] - 0s 10ms/step - loss: 3.2141e-04 - mae: 0.0175\n",
            "Epoch 194/500\n",
            "29/29 [==============================] - 0s 10ms/step - loss: 3.1992e-04 - mae: 0.0174\n",
            "Epoch 195/500\n",
            "29/29 [==============================] - 0s 10ms/step - loss: 3.1849e-04 - mae: 0.0174\n",
            "Epoch 196/500\n",
            "29/29 [==============================] - 0s 10ms/step - loss: 3.1684e-04 - mae: 0.0173\n",
            "Epoch 197/500\n",
            "29/29 [==============================] - 0s 10ms/step - loss: 3.1537e-04 - mae: 0.0172\n",
            "Epoch 198/500\n",
            "29/29 [==============================] - 0s 10ms/step - loss: 3.1391e-04 - mae: 0.0172\n",
            "Epoch 199/500\n",
            "29/29 [==============================] - 0s 10ms/step - loss: 3.1239e-04 - mae: 0.0171\n",
            "Epoch 200/500\n",
            "29/29 [==============================] - 0s 11ms/step - loss: 3.1115e-04 - mae: 0.0171\n",
            "Epoch 201/500\n",
            "29/29 [==============================] - 0s 11ms/step - loss: 3.0990e-04 - mae: 0.0171\n",
            "Epoch 202/500\n",
            "29/29 [==============================] - 0s 11ms/step - loss: 3.0857e-04 - mae: 0.0170\n",
            "Epoch 203/500\n",
            "29/29 [==============================] - 0s 10ms/step - loss: 3.0754e-04 - mae: 0.0170\n",
            "Epoch 204/500\n",
            "29/29 [==============================] - 0s 11ms/step - loss: 3.0624e-04 - mae: 0.0169\n",
            "Epoch 205/500\n",
            "29/29 [==============================] - 0s 10ms/step - loss: 3.0503e-04 - mae: 0.0169\n",
            "Epoch 206/500\n",
            "29/29 [==============================] - 0s 10ms/step - loss: 3.0393e-04 - mae: 0.0168\n",
            "Epoch 207/500\n",
            "29/29 [==============================] - 0s 10ms/step - loss: 3.0313e-04 - mae: 0.0168\n",
            "Epoch 208/500\n",
            "29/29 [==============================] - 0s 11ms/step - loss: 3.0189e-04 - mae: 0.0168\n",
            "Epoch 209/500\n",
            "29/29 [==============================] - 0s 10ms/step - loss: 3.0091e-04 - mae: 0.0168\n",
            "Epoch 210/500\n",
            "29/29 [==============================] - 0s 10ms/step - loss: 2.9978e-04 - mae: 0.0167\n",
            "Epoch 211/500\n",
            "29/29 [==============================] - 0s 10ms/step - loss: 2.9862e-04 - mae: 0.0167\n",
            "Epoch 212/500\n",
            "29/29 [==============================] - 0s 10ms/step - loss: 2.9774e-04 - mae: 0.0166\n",
            "Epoch 213/500\n",
            "29/29 [==============================] - 0s 10ms/step - loss: 2.9684e-04 - mae: 0.0166\n",
            "Epoch 214/500\n",
            "29/29 [==============================] - 0s 10ms/step - loss: 2.9586e-04 - mae: 0.0166\n",
            "Epoch 215/500\n",
            "29/29 [==============================] - 0s 10ms/step - loss: 2.9477e-04 - mae: 0.0165\n",
            "Epoch 216/500\n",
            "29/29 [==============================] - 0s 10ms/step - loss: 2.9397e-04 - mae: 0.0165\n",
            "Epoch 217/500\n",
            "29/29 [==============================] - 0s 10ms/step - loss: 2.9281e-04 - mae: 0.0165\n",
            "Epoch 218/500\n",
            "29/29 [==============================] - 0s 10ms/step - loss: 2.9179e-04 - mae: 0.0164\n",
            "Epoch 219/500\n",
            "29/29 [==============================] - 0s 10ms/step - loss: 2.9077e-04 - mae: 0.0164\n",
            "Epoch 220/500\n",
            "29/29 [==============================] - 0s 10ms/step - loss: 2.8988e-04 - mae: 0.0164\n",
            "Epoch 221/500\n",
            "29/29 [==============================] - 0s 10ms/step - loss: 2.8897e-04 - mae: 0.0163\n",
            "Epoch 222/500\n",
            "29/29 [==============================] - 0s 11ms/step - loss: 2.8815e-04 - mae: 0.0163\n",
            "Epoch 223/500\n",
            "29/29 [==============================] - 0s 11ms/step - loss: 2.8713e-04 - mae: 0.0163\n",
            "Epoch 224/500\n",
            "29/29 [==============================] - 0s 11ms/step - loss: 2.8617e-04 - mae: 0.0163\n",
            "Epoch 225/500\n",
            "29/29 [==============================] - 0s 11ms/step - loss: 2.8544e-04 - mae: 0.0162\n",
            "Epoch 226/500\n",
            "29/29 [==============================] - 0s 10ms/step - loss: 2.8474e-04 - mae: 0.0162\n",
            "Epoch 227/500\n",
            "29/29 [==============================] - 0s 11ms/step - loss: 2.8389e-04 - mae: 0.0162\n",
            "Epoch 228/500\n",
            "29/29 [==============================] - 0s 10ms/step - loss: 2.8300e-04 - mae: 0.0162\n",
            "Epoch 229/500\n",
            "29/29 [==============================] - 0s 11ms/step - loss: 2.8237e-04 - mae: 0.0161\n",
            "Epoch 230/500\n",
            "29/29 [==============================] - 0s 10ms/step - loss: 2.8194e-04 - mae: 0.0161\n",
            "Epoch 231/500\n",
            "29/29 [==============================] - 0s 10ms/step - loss: 2.8170e-04 - mae: 0.0161\n",
            "Epoch 232/500\n",
            "29/29 [==============================] - 0s 11ms/step - loss: 2.8194e-04 - mae: 0.0162\n",
            "Epoch 233/500\n",
            "29/29 [==============================] - 0s 11ms/step - loss: 2.8148e-04 - mae: 0.0161\n",
            "Epoch 234/500\n",
            "29/29 [==============================] - 0s 11ms/step - loss: 2.8196e-04 - mae: 0.0162\n",
            "Epoch 235/500\n",
            "29/29 [==============================] - 0s 11ms/step - loss: 2.8298e-04 - mae: 0.0163\n",
            "Epoch 236/500\n",
            "29/29 [==============================] - 0s 11ms/step - loss: 2.8589e-04 - mae: 0.0164\n",
            "Epoch 237/500\n",
            "29/29 [==============================] - 0s 11ms/step - loss: 2.8938e-04 - mae: 0.0166\n",
            "Epoch 238/500\n",
            "29/29 [==============================] - 0s 10ms/step - loss: 2.9580e-04 - mae: 0.0169\n",
            "Epoch 239/500\n",
            "29/29 [==============================] - 0s 10ms/step - loss: 3.0208e-04 - mae: 0.0172\n",
            "Epoch 240/500\n",
            "29/29 [==============================] - 0s 10ms/step - loss: 3.1655e-04 - mae: 0.0180\n",
            "Epoch 241/500\n",
            "29/29 [==============================] - 0s 10ms/step - loss: 3.3189e-04 - mae: 0.0185\n",
            "Epoch 242/500\n",
            "29/29 [==============================] - 0s 10ms/step - loss: 3.6509e-04 - mae: 0.0199\n",
            "Epoch 243/500\n",
            "29/29 [==============================] - 0s 10ms/step - loss: 3.9464e-04 - mae: 0.0208\n",
            "Epoch 244/500\n",
            "29/29 [==============================] - 0s 11ms/step - loss: 4.8025e-04 - mae: 0.0236\n",
            "Epoch 245/500\n",
            "29/29 [==============================] - 0s 11ms/step - loss: 5.4873e-04 - mae: 0.0253\n",
            "Epoch 246/500\n",
            "29/29 [==============================] - 0s 10ms/step - loss: 7.0632e-04 - mae: 0.0285\n",
            "Epoch 247/500\n",
            "29/29 [==============================] - 0s 10ms/step - loss: 7.2478e-04 - mae: 0.0288\n",
            "Epoch 248/500\n",
            "29/29 [==============================] - 0s 10ms/step - loss: 9.1203e-04 - mae: 0.0315\n",
            "Epoch 249/500\n",
            "29/29 [==============================] - 0s 10ms/step - loss: 7.3929e-04 - mae: 0.0287\n",
            "\n",
            "Epoch 00249: ReduceLROnPlateau reducing learning rate to 1.0000000474974514e-05.\n",
            "Epoch 250/500\n",
            "29/29 [==============================] - 0s 10ms/step - loss: 9.0523e-04 - mae: 0.0283\n",
            "Epoch 251/500\n",
            "29/29 [==============================] - 0s 10ms/step - loss: 6.7174e-04 - mae: 0.0246\n",
            "Epoch 252/500\n",
            "29/29 [==============================] - 0s 11ms/step - loss: 5.1376e-04 - mae: 0.0219\n",
            "Epoch 253/500\n",
            "29/29 [==============================] - 0s 10ms/step - loss: 4.1661e-04 - mae: 0.0201\n",
            "Epoch 254/500\n",
            "29/29 [==============================] - 0s 10ms/step - loss: 3.5830e-04 - mae: 0.0187\n",
            "Epoch 255/500\n",
            "29/29 [==============================] - 0s 10ms/step - loss: 3.2432e-04 - mae: 0.0178\n",
            "Epoch 256/500\n",
            "29/29 [==============================] - 0s 10ms/step - loss: 3.0419e-04 - mae: 0.0172\n",
            "Epoch 257/500\n",
            "29/29 [==============================] - 0s 10ms/step - loss: 2.9236e-04 - mae: 0.0168\n",
            "Epoch 258/500\n",
            "29/29 [==============================] - 0s 11ms/step - loss: 2.8530e-04 - mae: 0.0165\n",
            "Epoch 259/500\n",
            "29/29 [==============================] - 0s 10ms/step - loss: 2.8088e-04 - mae: 0.0163\n",
            "Epoch 260/500\n",
            "29/29 [==============================] - 0s 10ms/step - loss: 2.7805e-04 - mae: 0.0162\n",
            "Epoch 261/500\n",
            "29/29 [==============================] - 0s 10ms/step - loss: 2.7611e-04 - mae: 0.0161\n",
            "Epoch 262/500\n",
            "29/29 [==============================] - 0s 11ms/step - loss: 2.7473e-04 - mae: 0.0160\n",
            "Epoch 263/500\n",
            "29/29 [==============================] - 0s 10ms/step - loss: 2.7369e-04 - mae: 0.0159\n",
            "Epoch 264/500\n",
            "29/29 [==============================] - 0s 11ms/step - loss: 2.7289e-04 - mae: 0.0159\n",
            "Epoch 265/500\n",
            "29/29 [==============================] - 0s 10ms/step - loss: 2.7226e-04 - mae: 0.0159\n",
            "Epoch 266/500\n",
            "29/29 [==============================] - 0s 11ms/step - loss: 2.7172e-04 - mae: 0.0158\n",
            "Epoch 267/500\n",
            "29/29 [==============================] - 0s 10ms/step - loss: 2.7127e-04 - mae: 0.0158\n",
            "Epoch 268/500\n",
            "29/29 [==============================] - 0s 11ms/step - loss: 2.7088e-04 - mae: 0.0158\n",
            "Epoch 269/500\n",
            "29/29 [==============================] - 0s 11ms/step - loss: 2.7054e-04 - mae: 0.0158\n",
            "Epoch 270/500\n",
            "29/29 [==============================] - 0s 10ms/step - loss: 2.7022e-04 - mae: 0.0158\n",
            "Epoch 271/500\n",
            "29/29 [==============================] - 0s 11ms/step - loss: 2.6994e-04 - mae: 0.0157\n",
            "Epoch 272/500\n",
            "29/29 [==============================] - 0s 10ms/step - loss: 2.6968e-04 - mae: 0.0157\n",
            "Epoch 273/500\n",
            "29/29 [==============================] - 0s 10ms/step - loss: 2.6944e-04 - mae: 0.0157\n",
            "Epoch 274/500\n",
            "29/29 [==============================] - 0s 10ms/step - loss: 2.6920e-04 - mae: 0.0157\n",
            "Epoch 275/500\n",
            "29/29 [==============================] - 0s 10ms/step - loss: 2.6898e-04 - mae: 0.0157\n",
            "Epoch 276/500\n",
            "29/29 [==============================] - 0s 11ms/step - loss: 2.6875e-04 - mae: 0.0157\n",
            "Epoch 277/500\n",
            "29/29 [==============================] - 0s 10ms/step - loss: 2.6855e-04 - mae: 0.0157\n",
            "Epoch 278/500\n",
            "29/29 [==============================] - 0s 10ms/step - loss: 2.6835e-04 - mae: 0.0157\n",
            "Epoch 279/500\n",
            "29/29 [==============================] - 0s 10ms/step - loss: 2.6816e-04 - mae: 0.0157\n",
            "Epoch 280/500\n",
            "29/29 [==============================] - 0s 10ms/step - loss: 2.6797e-04 - mae: 0.0156\n",
            "Epoch 281/500\n",
            "29/29 [==============================] - 0s 10ms/step - loss: 2.6778e-04 - mae: 0.0156\n",
            "Epoch 282/500\n",
            "29/29 [==============================] - 0s 10ms/step - loss: 2.6761e-04 - mae: 0.0156\n",
            "Epoch 283/500\n",
            "29/29 [==============================] - 0s 10ms/step - loss: 2.6744e-04 - mae: 0.0156\n",
            "Epoch 284/500\n",
            "29/29 [==============================] - 0s 11ms/step - loss: 2.6727e-04 - mae: 0.0156\n",
            "Epoch 285/500\n",
            "29/29 [==============================] - 0s 11ms/step - loss: 2.6710e-04 - mae: 0.0156\n",
            "Epoch 286/500\n",
            "29/29 [==============================] - 0s 11ms/step - loss: 2.6694e-04 - mae: 0.0156\n",
            "Epoch 287/500\n",
            "29/29 [==============================] - 0s 11ms/step - loss: 2.6678e-04 - mae: 0.0156\n",
            "Epoch 288/500\n",
            "29/29 [==============================] - 0s 10ms/step - loss: 2.6662e-04 - mae: 0.0156\n",
            "Epoch 289/500\n",
            "29/29 [==============================] - 0s 11ms/step - loss: 2.6647e-04 - mae: 0.0156\n",
            "Epoch 290/500\n",
            "29/29 [==============================] - 0s 11ms/step - loss: 2.6631e-04 - mae: 0.0156\n",
            "Epoch 291/500\n",
            "29/29 [==============================] - 0s 10ms/step - loss: 2.6617e-04 - mae: 0.0156\n",
            "Epoch 292/500\n",
            "29/29 [==============================] - 0s 11ms/step - loss: 2.6602e-04 - mae: 0.0156\n",
            "Epoch 293/500\n",
            "29/29 [==============================] - 0s 10ms/step - loss: 2.6588e-04 - mae: 0.0156\n",
            "Epoch 294/500\n",
            "29/29 [==============================] - 0s 11ms/step - loss: 2.6573e-04 - mae: 0.0155\n",
            "Epoch 295/500\n",
            "29/29 [==============================] - 0s 11ms/step - loss: 2.6559e-04 - mae: 0.0155\n",
            "Epoch 296/500\n",
            "29/29 [==============================] - 0s 10ms/step - loss: 2.6544e-04 - mae: 0.0155\n",
            "Epoch 297/500\n",
            "29/29 [==============================] - 0s 11ms/step - loss: 2.6530e-04 - mae: 0.0155\n",
            "Epoch 298/500\n",
            "29/29 [==============================] - 0s 10ms/step - loss: 2.6517e-04 - mae: 0.0155\n",
            "Epoch 299/500\n",
            "29/29 [==============================] - 0s 11ms/step - loss: 2.6502e-04 - mae: 0.0155\n"
          ]
        }
      ]
    },
    {
      "cell_type": "code",
      "metadata": {
        "colab": {
          "base_uri": "https://localhost:8080/",
          "height": 531
        },
        "id": "ZnuGZcIaKLnP",
        "outputId": "27fc5eed-b3fa-4735-dbcc-5f619f40cfa3"
      },
      "source": [
        "history_frame.loc[:, ['loss']].plot()\n",
        "history_frame.loc[:, ['mae']].plot()"
      ],
      "execution_count": null,
      "outputs": [
        {
          "output_type": "execute_result",
          "data": {
            "text/plain": [
              "<matplotlib.axes._subplots.AxesSubplot at 0x7fbfba64eb90>"
            ]
          },
          "metadata": {},
          "execution_count": 95
        },
        {
          "output_type": "display_data",
          "data": {
            "image/png": "[encoded data removed]",
            "text/plain": [
              "<Figure size 432x288 with 1 Axes>"
            ]
          },
          "metadata": {
            "needs_background": "light"
          }
        },
        {
          "output_type": "display_data",
          "data": {
            "image/png": "[encoded data removed]",
            "text/plain": [
              "<Figure size 432x288 with 1 Axes>"
            ]
          },
          "metadata": {
            "needs_background": "light"
          }
        }
      ]
    },
    {
      "cell_type": "code",
      "metadata": {
        "colab": {
          "base_uri": "https://localhost:8080/"
        },
        "id": "lGq1GDq5Nggr",
        "outputId": "b28f3a82-7a78-4867-9532-3e682463d90c"
      },
      "source": [
        "model.evaluate(test_dataset)"
      ],
      "execution_count": null,
      "outputs": [
        {
          "output_type": "stream",
          "name": "stdout",
          "text": [
            "1/1 [==============================] - 1s 579ms/step - loss: 1.2433e-04 - mae: 0.0120\n"
          ]
        },
        {
          "output_type": "execute_result",
          "data": {
            "text/plain": [
              "[0.00012432815856300294, 0.011992981657385826]"
            ]
          },
          "metadata": {},
          "execution_count": 96
        }
      ]
    },
    {
      "cell_type": "code",
      "metadata": {
        "colab": {
          "base_uri": "https://localhost:8080/"
        },
        "id": "UzvY1klSN5To",
        "outputId": "57769331-28bf-4cff-fc2e-12cdaa20ab64"
      },
      "source": [
        "predictions = model.predict(test_dataset)\n",
        "predictions = scale_tesla_inv(predictions)\n",
        "predictions"
      ],
      "execution_count": null,
      "outputs": [
        {
          "output_type": "execute_result",
          "data": {
            "text/plain": [
              "array([[734.4552 , 738.02234, 734.0108 , 743.52344, 752.8542 , 746.6237 ,\n",
              "        748.0897 ],\n",
              "       [730.7328 , 745.4376 , 745.6793 , 750.191  , 743.58813, 738.19885,\n",
              "        739.594  ],\n",
              "       [736.209  , 752.4539 , 755.5278 , 754.53864, 739.1384 , 736.03973,\n",
              "        735.63293],\n",
              "       [756.2965 , 748.65894, 750.53   , 742.8932 , 738.6454 , 741.7014 ,\n",
              "        734.9434 ],\n",
              "       [752.0996 , 748.06824, 746.5185 , 737.91833, 740.84424, 739.81494,\n",
              "        731.6907 ],\n",
              "       [755.14014, 734.5677 , 735.91833, 741.3956 , 743.20654, 748.7133 ,\n",
              "        748.0439 ],\n",
              "       [744.93567, 734.8906 , 737.6602 , 746.3336 , 751.4198 , 756.48364,\n",
              "        756.97626]], dtype=float32)"
            ]
          },
          "metadata": {},
          "execution_count": 97
        }
      ]
    },
    {
      "cell_type": "code",
      "metadata": {
        "colab": {
          "base_uri": "https://localhost:8080/"
        },
        "id": "O29pQNA6N8hO",
        "outputId": "cd1d4727-1fc6-4e5a-c8a9-0a7307333c65"
      },
      "source": [
        "for x,y in test_dataset.take(1):\n",
        "  original = scale_tesla_inv(y.numpy())\n",
        "  print(original)"
      ],
      "execution_count": null,
      "outputs": [
        {
          "output_type": "stream",
          "name": "stdout",
          "text": [
            "[[733.57 733.57 733.57 752.92 753.87 754.86 736.27]\n",
            " [733.57 733.57 752.92 753.87 754.86 736.27 736.27]\n",
            " [733.57 752.92 753.87 754.86 736.27 736.27 736.27]\n",
            " [752.92 753.87 754.86 736.27 736.27 736.27 743.  ]\n",
            " [753.87 754.86 736.27 736.27 736.27 743.   744.49]\n",
            " [754.86 736.27 736.27 736.27 743.   744.49 755.83]\n",
            " [736.27 736.27 736.27 743.   744.49 755.83 756.99]]\n"
          ]
        }
      ]
    },
    {
      "cell_type": "code",
      "metadata": {
        "colab": {
          "base_uri": "https://localhost:8080/",
          "height": 269
        },
        "id": "ZImiAxctHP-y",
        "outputId": "bc9be6b6-e41e-453b-a8d5-d136673deb76"
      },
      "source": [
        " err = pd.DataFrame(original - predictions)\n",
        " err"
      ],
      "execution_count": null,
      "outputs": [
        {
          "output_type": "execute_result",
          "data": {
            "text/html": [
              "<div>\n",
              "<style scoped>\n",
              "    .dataframe tbody tr th:only-of-type {\n",
              "        vertical-align: middle;\n",
              "    }\n",
              "\n",
              "    .dataframe tbody tr th {\n",
              "        vertical-align: top;\n",
              "    }\n",
              "\n",
              "    .dataframe thead th {\n",
              "        text-align: right;\n",
              "    }\n",
              "</style>\n",
              "<table border=\"1\" class=\"dataframe\">\n",
              "  <thead>\n",
              "    <tr style=\"text-align: right;\">\n",
              "      <th></th>\n",
              "      <th>0</th>\n",
              "      <th>1</th>\n",
              "      <th>2</th>\n",
              "      <th>3</th>\n",
              "      <th>4</th>\n",
              "      <th>5</th>\n",
              "      <th>6</th>\n",
              "    </tr>\n",
              "  </thead>\n",
              "  <tbody>\n",
              "    <tr>\n",
              "      <th>0</th>\n",
              "      <td>-0.885200</td>\n",
              "      <td>-4.452339</td>\n",
              "      <td>-0.440803</td>\n",
              "      <td>9.396562</td>\n",
              "      <td>1.015813</td>\n",
              "      <td>8.236282</td>\n",
              "      <td>-11.819722</td>\n",
              "    </tr>\n",
              "    <tr>\n",
              "      <th>1</th>\n",
              "      <td>2.837212</td>\n",
              "      <td>-11.867622</td>\n",
              "      <td>7.240679</td>\n",
              "      <td>3.679021</td>\n",
              "      <td>11.271865</td>\n",
              "      <td>-1.928853</td>\n",
              "      <td>-3.323994</td>\n",
              "    </tr>\n",
              "    <tr>\n",
              "      <th>2</th>\n",
              "      <td>-2.638984</td>\n",
              "      <td>0.466082</td>\n",
              "      <td>-1.657771</td>\n",
              "      <td>0.321365</td>\n",
              "      <td>-2.868428</td>\n",
              "      <td>0.230266</td>\n",
              "      <td>0.637065</td>\n",
              "    </tr>\n",
              "    <tr>\n",
              "      <th>3</th>\n",
              "      <td>-3.376509</td>\n",
              "      <td>5.211064</td>\n",
              "      <td>4.329971</td>\n",
              "      <td>-6.623188</td>\n",
              "      <td>-2.375386</td>\n",
              "      <td>-5.431416</td>\n",
              "      <td>8.056580</td>\n",
              "    </tr>\n",
              "    <tr>\n",
              "      <th>4</th>\n",
              "      <td>1.770391</td>\n",
              "      <td>6.791763</td>\n",
              "      <td>-10.248494</td>\n",
              "      <td>-1.648335</td>\n",
              "      <td>-4.574238</td>\n",
              "      <td>3.185059</td>\n",
              "      <td>12.799326</td>\n",
              "    </tr>\n",
              "    <tr>\n",
              "      <th>5</th>\n",
              "      <td>-0.280137</td>\n",
              "      <td>1.702312</td>\n",
              "      <td>0.351665</td>\n",
              "      <td>-5.125630</td>\n",
              "      <td>-0.206543</td>\n",
              "      <td>-4.223318</td>\n",
              "      <td>7.786116</td>\n",
              "    </tr>\n",
              "    <tr>\n",
              "      <th>6</th>\n",
              "      <td>-8.665669</td>\n",
              "      <td>1.379375</td>\n",
              "      <td>-1.390217</td>\n",
              "      <td>-3.333618</td>\n",
              "      <td>-6.929800</td>\n",
              "      <td>-0.653643</td>\n",
              "      <td>0.013743</td>\n",
              "    </tr>\n",
              "  </tbody>\n",
              "</table>\n",
              "</div>"
            ],
            "text/plain": [
              "          0          1          2         3          4         5          6\n",
              "0 -0.885200  -4.452339  -0.440803  9.396562   1.015813  8.236282 -11.819722\n",
              "1  2.837212 -11.867622   7.240679  3.679021  11.271865 -1.928853  -3.323994\n",
              "2 -2.638984   0.466082  -1.657771  0.321365  -2.868428  0.230266   0.637065\n",
              "3 -3.376509   5.211064   4.329971 -6.623188  -2.375386 -5.431416   8.056580\n",
              "4  1.770391   6.791763 -10.248494 -1.648335  -4.574238  3.185059  12.799326\n",
              "5 -0.280137   1.702312   0.351665 -5.125630  -0.206543 -4.223318   7.786116\n",
              "6 -8.665669   1.379375  -1.390217 -3.333618  -6.929800 -0.653643   0.013743"
            ]
          },
          "metadata": {},
          "execution_count": 99
        }
      ]
    },
    {
      "cell_type": "code",
      "metadata": {
        "colab": {
          "base_uri": "https://localhost:8080/"
        },
        "id": "Zo-NXYl2IHRK",
        "outputId": "5e58d284-73a6-4fb8-9058-96d457a5596d"
      },
      "source": [
        "err.mean(axis = 1)"
      ],
      "execution_count": null,
      "outputs": [
        {
          "output_type": "execute_result",
          "data": {
            "text/plain": [
              "0    0.150085\n",
              "1    1.129758\n",
              "2   -0.787201\n",
              "3   -0.029841\n",
              "4    1.153639\n",
              "5    0.000638\n",
              "6   -2.797118\n",
              "dtype: float64"
            ]
          },
          "metadata": {},
          "execution_count": 100
        }
      ]
    },
    {
      "cell_type": "code",
      "metadata": {
        "colab": {
          "base_uri": "https://localhost:8080/"
        },
        "id": "JUqc-AmWJfgT",
        "outputId": "75948628-07ce-44ed-ecca-4db72b6be512"
      },
      "source": [
        "err.std(axis = 1)"
      ],
      "execution_count": null,
      "outputs": [
        {
          "output_type": "execute_result",
          "data": {
            "text/plain": [
              "0    7.274533\n",
              "1    7.612957\n",
              "2    1.548220\n",
              "3    5.791031\n",
              "4    7.556297\n",
              "5    4.240180\n",
              "6    3.735520\n",
              "dtype: float64"
            ]
          },
          "metadata": {},
          "execution_count": 101
        }
      ]
    },
    {
      "cell_type": "code",
      "metadata": {
        "colab": {
          "base_uri": "https://localhost:8080/"
        },
        "id": "pVaCKE_AJym6",
        "outputId": "80c22227-cb25-4c79-efd4-e3800e7aa69a"
      },
      "source": [
        "err.apply(abs).mean(axis=0)"
      ],
      "execution_count": null,
      "outputs": [
        {
          "output_type": "execute_result",
          "data": {
            "text/plain": [
              "0    2.922015\n",
              "1    4.552937\n",
              "2    3.665657\n",
              "3    4.303960\n",
              "4    4.177439\n",
              "5    3.412691\n",
              "6    6.348078\n",
              "dtype: float64"
            ]
          },
          "metadata": {},
          "execution_count": 102
        }
      ]
    },
    {
      "cell_type": "code",
      "metadata": {
        "id": "VIsWXg5AwQT9"
      },
      "source": [
        "model.save_weights('GRU_model_weights.h5')"
      ],
      "execution_count": null,
      "outputs": []
    },
    {
      "cell_type": "code",
      "metadata": {
        "colab": {
          "base_uri": "https://localhost:8080/"
        },
        "id": "qFZV5YqP8Qo3",
        "outputId": "6e1a78bb-e10f-4357-9849-e550896315ea"
      },
      "source": [
        "from sklearn.externals import joblib\n",
        "scaler_filename = \"scaler.save\"\n",
        "joblib.dump(scaler, scaler_filename) "
      ],
      "execution_count": null,
      "outputs": [
        {
          "output_type": "stream",
          "name": "stderr",
          "text": [
            "/usr/local/lib/python3.7/dist-packages/sklearn/externals/joblib/__init__.py:15: FutureWarning: sklearn.externals.joblib is deprecated in 0.21 and will be removed in 0.23. Please import this functionality directly from joblib, which can be installed with: pip install joblib. If this warning is raised when loading pickled models, you may need to re-serialize those models with scikit-learn 0.21+.\n",
            "  warnings.warn(msg, category=FutureWarning)\n"
          ]
        },
        {
          "output_type": "execute_result",
          "data": {
            "text/plain": [
              "['scaler.save']"
            ]
          },
          "metadata": {},
          "execution_count": 105
        }
      ]
    }
  ]
}